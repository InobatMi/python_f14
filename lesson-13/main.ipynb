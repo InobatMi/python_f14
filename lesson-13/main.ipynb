{
 "cells": [
  {
   "cell_type": "markdown",
   "metadata": {},
   "source": [
    "## Datetime, Regular expression"
   ]
  },
  {
   "cell_type": "code",
   "execution_count": 3,
   "metadata": {},
   "outputs": [],
   "source": [
    "from datetime import datetime, time, date, timedelta\n",
    "\n",
    "# import datetime"
   ]
  },
  {
   "cell_type": "code",
   "execution_count": 7,
   "metadata": {},
   "outputs": [
    {
     "data": {
      "text/plain": [
       "datetime.date"
      ]
     },
     "execution_count": 7,
     "metadata": {},
     "output_type": "execute_result"
    }
   ],
   "source": [
    "# date\n",
    "\n",
    "date_1 = date(2025, 2, 5)\n",
    "type(date_1)"
   ]
  },
  {
   "cell_type": "code",
   "execution_count": 18,
   "metadata": {},
   "outputs": [
    {
     "data": {
      "text/plain": [
       "datetime.date(2025, 2, 26)"
      ]
     },
     "execution_count": 18,
     "metadata": {},
     "output_type": "execute_result"
    }
   ],
   "source": [
    "today = date.today()\n",
    "today"
   ]
  },
  {
   "cell_type": "code",
   "execution_count": 13,
   "metadata": {},
   "outputs": [
    {
     "name": "stdout",
     "output_type": "stream",
     "text": [
      "2025\n",
      "2\n",
      "26\n"
     ]
    }
   ],
   "source": [
    "print(today.year)\n",
    "print(today.month)\n",
    "print(today.day)"
   ]
  },
  {
   "cell_type": "code",
   "execution_count": null,
   "metadata": {},
   "outputs": [
    {
     "data": {
      "text/plain": [
       "datetime.time(8, 35, 53, 345)"
      ]
     },
     "execution_count": 19,
     "metadata": {},
     "output_type": "execute_result"
    }
   ],
   "source": [
    "# time - default 0\n",
    "\n",
    "time_1 = time(8,35, 53, 345)\n",
    "time_1"
   ]
  },
  {
   "cell_type": "code",
   "execution_count": 23,
   "metadata": {},
   "outputs": [
    {
     "name": "stdout",
     "output_type": "stream",
     "text": [
      "8\n",
      "35\n"
     ]
    }
   ],
   "source": [
    "print(time_1.hour)\n",
    "print(time_1.minute)"
   ]
  },
  {
   "cell_type": "code",
   "execution_count": 33,
   "metadata": {},
   "outputs": [
    {
     "name": "stdout",
     "output_type": "stream",
     "text": [
      "2024-12-25 00:00:00\n"
     ]
    },
    {
     "data": {
      "text/plain": [
       "datetime.datetime(2024, 12, 25, 0, 0)"
      ]
     },
     "execution_count": 33,
     "metadata": {},
     "output_type": "execute_result"
    }
   ],
   "source": [
    "# datetime\n",
    "from datetime import datetime\n",
    "\n",
    "datetime_1 = datetime(2024,12,25)\n",
    "print(datetime_1)\n",
    "datetime_1"
   ]
  },
  {
   "cell_type": "code",
   "execution_count": 35,
   "metadata": {},
   "outputs": [
    {
     "name": "stdout",
     "output_type": "stream",
     "text": [
      "9\n"
     ]
    }
   ],
   "source": [
    "class Test:\n",
    "    def __init__(self, id):\n",
    "        self.id = id\n",
    "    def __str__(self):\n",
    "        return f'{self.id}'\n",
    "    def __repr__(self):\n",
    "        return f'{self.id}'\n",
    "    \n",
    "t1 = Test(9)\n",
    "\n",
    "print(t1)"
   ]
  },
  {
   "cell_type": "code",
   "execution_count": 58,
   "metadata": {},
   "outputs": [
    {
     "name": "stdout",
     "output_type": "stream",
     "text": [
      "2025-02-26 09:43:55.203926\n"
     ]
    }
   ],
   "source": [
    "print(datetime.now())"
   ]
  },
  {
   "cell_type": "code",
   "execution_count": 65,
   "metadata": {},
   "outputs": [
    {
     "name": "stdout",
     "output_type": "stream",
     "text": [
      "-398 days, 0:00:00\n"
     ]
    },
    {
     "data": {
      "text/plain": [
       "datetime.date(2026, 3, 31)"
      ]
     },
     "execution_count": 65,
     "metadata": {},
     "output_type": "execute_result"
    }
   ],
   "source": [
    "d1 = date(2026, 11, 12)\n",
    "d2 = date(2025, 10, 10)\n",
    "\n",
    "timedelta1 = d2 - d1\n",
    "\n",
    "print(timedelta1)\n",
    "\n",
    "date.today() - timedelta1"
   ]
  },
  {
   "cell_type": "code",
   "execution_count": 68,
   "metadata": {},
   "outputs": [
    {
     "data": {
      "text/plain": [
       "datetime.timedelta(days=19)"
      ]
     },
     "execution_count": 68,
     "metadata": {},
     "output_type": "execute_result"
    }
   ],
   "source": [
    "time_diff = timedelta(weeks=2, days=5)\n",
    "\n",
    "time_diff"
   ]
  },
  {
   "cell_type": "code",
   "execution_count": 74,
   "metadata": {},
   "outputs": [
    {
     "data": {
      "text/plain": [
       "datetime.datetime(1970, 1, 1, 5, 0)"
      ]
     },
     "execution_count": 74,
     "metadata": {},
     "output_type": "execute_result"
    }
   ],
   "source": [
    "datetime.fromtimestamp(0)"
   ]
  },
  {
   "cell_type": "code",
   "execution_count": null,
   "metadata": {},
   "outputs": [
    {
     "data": {
      "text/plain": [
       "'26-February-2025 10:13:11'"
      ]
     },
     "execution_count": 83,
     "metadata": {},
     "output_type": "execute_result"
    }
   ],
   "source": [
    "# strftime -- datetime to str\n",
    "\n",
    "# strptime -- str to datetime\n",
    "\n",
    "today = datetime.now()\n",
    "\n",
    "date_str = today.strftime('%d-%B-%Y %H:%M:%S')\n",
    "date_str"
   ]
  },
  {
   "cell_type": "code",
   "execution_count": 85,
   "metadata": {},
   "outputs": [
    {
     "name": "stdout",
     "output_type": "stream",
     "text": [
      "2025-02-26 10:13:11\n"
     ]
    }
   ],
   "source": [
    "date3 = datetime.strptime(date_str, '%d-%B-%Y %H:%M:%S')\n",
    "\n",
    "print(date3)"
   ]
  },
  {
   "cell_type": "code",
   "execution_count": 58,
   "metadata": {},
   "outputs": [
    {
     "name": "stdout",
     "output_type": "stream",
     "text": [
      "Local time:  23-March-2025 16:17:55\n",
      "Local time:  23-March-2025 07:17:55\n",
      "Local time:  23-March-2025 11:17:55\n",
      "America/New_York\n"
     ]
    }
   ],
   "source": [
    "import pytz\n",
    "\n",
    "local = datetime.now()\n",
    "print('Local time: ', local.strftime('%d-%B-%Y %H:%M:%S'))\n",
    "\n",
    "\n",
    "tz_NY = pytz.timezone('America/New_York')\n",
    "# need to assign America/New_York to variable\n",
    "local = datetime.now(tz_NY)\n",
    "print('Local time: ', local.strftime('%d-%B-%Y %H:%M:%S'))\n",
    "\n",
    "\n",
    "tz_London = pytz.timezone('Europe/London')\n",
    "local = datetime.now(tz_London)\n",
    "print('Local time: ', local.strftime('%d-%B-%Y %H:%M:%S'))\n",
    "print(tz_NY)"
   ]
  },
  {
   "cell_type": "markdown",
   "metadata": {},
   "source": [
    "## Regular Expression"
   ]
  },
  {
   "cell_type": "code",
   "execution_count": null,
   "metadata": {},
   "outputs": [],
   "source": [
    "import re \n"
   ]
  },
  {
   "cell_type": "code",
   "execution_count": 14,
   "metadata": {},
   "outputs": [
    {
     "name": "stdout",
     "output_type": "stream",
     "text": [
      "<re.Match object; span=(31, 32), match='a'>\n",
      "<re.Match object; span=(47, 48), match='a'>\n",
      "<re.Match object; span=(53, 54), match='a'>\n"
     ]
    }
   ],
   "source": [
    "message = '1234567890ABCDEFGHIJKLMNOPQRSTUaVWXYZqwertyuiopasdfghajlmxl!@#$%^&*'\n",
    "\n",
    "pattern = re.compile('a')\n",
    "matches = pattern.finditer(message)\n",
    "\n",
    "for match in matches:\n",
    "    print(match)"
   ]
  },
  {
   "cell_type": "code",
   "execution_count": 15,
   "metadata": {},
   "outputs": [
    {
     "name": "stdout",
     "output_type": "stream",
     "text": [
      "<re.Match object; span=(47, 49), match='ab'>\n"
     ]
    }
   ],
   "source": [
    "message = '1234567890ABCDEFGHIJKLMNOPQRSTUaVWXYZqwertyuiopabsdfghajlmxl!@#$%^&*'\n",
    "\n",
    "pattern = re.compile('ab')\n",
    "matches = pattern.finditer(message)\n",
    "\n",
    "for match in matches:\n",
    "    print(match)"
   ]
  },
  {
   "cell_type": "code",
   "execution_count": null,
   "metadata": {},
   "outputs": [
    {
     "name": "stdout",
     "output_type": "stream",
     "text": [
      "<re.Match object; span=(0, 1), match='1'>\n",
      "<re.Match object; span=(1, 2), match='2'>\n",
      "<re.Match object; span=(2, 3), match='3'>\n",
      "<re.Match object; span=(3, 4), match='4'>\n",
      "<re.Match object; span=(4, 5), match='5'>\n",
      "<re.Match object; span=(5, 6), match='6'>\n",
      "<re.Match object; span=(6, 7), match='7'>\n",
      "<re.Match object; span=(7, 8), match='8'>\n",
      "<re.Match object; span=(8, 9), match='9'>\n",
      "<re.Match object; span=(9, 10), match='0'>\n",
      "<re.Match object; span=(10, 11), match='A'>\n",
      "<re.Match object; span=(11, 12), match='B'>\n",
      "<re.Match object; span=(12, 13), match='C'>\n",
      "<re.Match object; span=(13, 14), match='D'>\n",
      "<re.Match object; span=(14, 15), match='E'>\n",
      "<re.Match object; span=(15, 16), match='F'>\n",
      "<re.Match object; span=(16, 17), match='G'>\n",
      "<re.Match object; span=(17, 18), match='H'>\n",
      "<re.Match object; span=(18, 19), match='I'>\n",
      "<re.Match object; span=(19, 20), match='J'>\n",
      "<re.Match object; span=(20, 21), match='K'>\n",
      "<re.Match object; span=(21, 22), match='L'>\n",
      "<re.Match object; span=(22, 23), match='M'>\n",
      "<re.Match object; span=(23, 24), match='N'>\n",
      "<re.Match object; span=(24, 25), match='O'>\n",
      "<re.Match object; span=(25, 26), match='P'>\n",
      "<re.Match object; span=(26, 27), match='Q'>\n",
      "<re.Match object; span=(27, 28), match='R'>\n",
      "<re.Match object; span=(28, 29), match='S'>\n",
      "<re.Match object; span=(29, 30), match='T'>\n",
      "<re.Match object; span=(30, 31), match='U'>\n",
      "<re.Match object; span=(31, 32), match='a'>\n",
      "<re.Match object; span=(32, 33), match='V'>\n",
      "<re.Match object; span=(33, 34), match='W'>\n",
      "<re.Match object; span=(34, 35), match='X'>\n",
      "<re.Match object; span=(35, 36), match='Y'>\n",
      "<re.Match object; span=(36, 37), match='Z'>\n",
      "<re.Match object; span=(37, 38), match='q'>\n",
      "<re.Match object; span=(38, 39), match='w'>\n",
      "<re.Match object; span=(39, 40), match='e'>\n",
      "<re.Match object; span=(40, 41), match='r'>\n",
      "<re.Match object; span=(41, 42), match='t'>\n",
      "<re.Match object; span=(42, 43), match='y'>\n",
      "<re.Match object; span=(43, 44), match='u'>\n",
      "<re.Match object; span=(44, 45), match='i'>\n",
      "<re.Match object; span=(45, 46), match='o'>\n",
      "<re.Match object; span=(46, 47), match='p'>\n",
      "<re.Match object; span=(47, 48), match='a'>\n",
      "<re.Match object; span=(48, 49), match='b'>\n",
      "<re.Match object; span=(49, 50), match='s'>\n",
      "<re.Match object; span=(50, 51), match='d'>\n",
      "<re.Match object; span=(51, 52), match='f'>\n",
      "<re.Match object; span=(52, 53), match='g'>\n",
      "<re.Match object; span=(53, 54), match='h'>\n",
      "<re.Match object; span=(54, 55), match='a'>\n",
      "<re.Match object; span=(55, 56), match='j'>\n",
      "<re.Match object; span=(56, 57), match='l'>\n",
      "<re.Match object; span=(57, 58), match='m'>\n",
      "<re.Match object; span=(58, 59), match='x'>\n",
      "<re.Match object; span=(59, 60), match='l'>\n",
      "<re.Match object; span=(60, 61), match='!'>\n",
      "<re.Match object; span=(61, 62), match='@'>\n",
      "<re.Match object; span=(62, 63), match='#'>\n",
      "<re.Match object; span=(63, 64), match='$'>\n",
      "<re.Match object; span=(64, 65), match='%'>\n",
      "<re.Match object; span=(65, 66), match='^'>\n",
      "<re.Match object; span=(66, 67), match='&'>\n",
      "<re.Match object; span=(67, 68), match='*'>\n"
     ]
    }
   ],
   "source": [
    "message = '1234567890ABCDEFGHIJKLMNOPQRSTUaVWXYZqwertyuiopabsdfghajlmxl!@#$%^&*'\n",
    "\n",
    "\n",
    "# . is any character except new line\n",
    "\n",
    "pattern = re.compile('.')\n",
    "matches = pattern.finditer(message)\n",
    "\n",
    "for match in matches:\n",
    "    print(match)"
   ]
  },
  {
   "cell_type": "code",
   "execution_count": 21,
   "metadata": {},
   "outputs": [
    {
     "name": "stdout",
     "output_type": "stream",
     "text": [
      "<re.Match object; span=(56, 57), match='.'>\n"
     ]
    },
    {
     "name": "stderr",
     "output_type": "stream",
     "text": [
      "<>:7: SyntaxWarning: invalid escape sequence '\\.'\n",
      "<>:7: SyntaxWarning: invalid escape sequence '\\.'\n",
      "C:\\Users\\Inobat\\AppData\\Local\\Temp\\ipykernel_31928\\1560319918.py:7: SyntaxWarning: invalid escape sequence '\\.'\n",
      "  pattern = re.compile('\\.')\n"
     ]
    }
   ],
   "source": [
    "message = '1234567890ABCDEFGHIJKLMNOPQRSTUaVWXYZqwertyuiopabsdfghaj.lmxl!@#$%^&*'\n",
    "\n",
    "\n",
    "# . is any character except new line \n",
    "# \\ escape . \n",
    "\n",
    "pattern = re.compile('\\.')\n",
    "matches = pattern.finditer(message)\n",
    "\n",
    "for match in matches:\n",
    "    print(match)"
   ]
  },
  {
   "cell_type": "code",
   "execution_count": null,
   "metadata": {},
   "outputs": [
    {
     "name": "stdout",
     "output_type": "stream",
     "text": [
      "<re.Match object; span=(0, 1), match='a'>\n"
     ]
    }
   ],
   "source": [
    "message = 'a1234567890ABCDEFGHIJKLMNOPQRSTUaVWXYZqwertyuiopabsdfghaj.lmxl!@#$%^&*'\n",
    "metacharacters = ['.', '^', '&']\n",
    "\n",
    "# ^ - whole message starts with\n",
    "\n",
    "\n",
    "pattern = re.compile('^a')\n",
    "matches = pattern.finditer(message)\n",
    "\n",
    "for match in matches:\n",
    "    print(match)"
   ]
  },
  {
   "cell_type": "code",
   "execution_count": 45,
   "metadata": {},
   "outputs": [
    {
     "data": {
      "text/plain": [
       "<re.Match object; span=(0, 14), match='Heldjejelelllo'>"
      ]
     },
     "execution_count": 45,
     "metadata": {},
     "output_type": "execute_result"
    }
   ],
   "source": [
    "message = 'a1234567890ABCDEFGHIJKLMNOPQRSTUaVWXYZqwertyuiopabsdfghaj.lmxl!@#$%^&*'\n",
    "message2 = 'Heldjejelelllo'\n",
    "metacharacters = ['.', '^', '&']\n",
    "\n",
    "# ^ - whole message starts with\n",
    "# $ - whole message ends with\n",
    "# . - any character\n",
    "# * - any number of characters/ many characters\n",
    "\n",
    "\n",
    "pattern = re.compile('^H.*o$')\n",
    "re.match(pattern,message2)"
   ]
  },
  {
   "cell_type": "code",
   "execution_count": null,
   "metadata": {},
   "outputs": [
    {
     "name": "stdout",
     "output_type": "stream",
     "text": [
      "<re.Match object; span=(1, 1), match=''>\n",
      "<re.Match object; span=(4, 4), match=''>\n",
      "<re.Match object; span=(5, 5), match=''>\n",
      "<re.Match object; span=(6, 6), match=''>\n"
     ]
    },
    {
     "name": "stderr",
     "output_type": "stream",
     "text": [
      "<>:17: SyntaxWarning: invalid escape sequence '\\B'\n",
      "<>:17: SyntaxWarning: invalid escape sequence '\\B'\n",
      "C:\\Users\\Inobat\\AppData\\Local\\Temp\\ipykernel_31928\\2320305687.py:17: SyntaxWarning: invalid escape sequence '\\B'\n",
      "  pattern = re.compile('\\B')\n"
     ]
    }
   ],
   "source": [
    "message = 'a1234567890ABCDEFGHIJKLMNOPQRSTUaVWXYZqwertyuiopabsdfghaj.lmxl!@#$%^&*'\n",
    "metacharacters = ['.', '^', '&', '[]']\n",
    "\n",
    "# [] - range\n",
    "# \\d - numbers\n",
    "# \\D - everything except numbers\n",
    "# \\w - word characters\n",
    "# \\W - Not word characters\n",
    "# \\s - White spaces\n",
    "# \\S - not white spaces\n",
    "# \\b - word boundary\n",
    "\n",
    "pattern = re.compile('[0-9]') \n",
    "pattern = re.compile('[a-z]') \n",
    "pattern = re.compile('[A-Z]')\n",
    "# pattern = re.compile('\\B')\n",
    "matches = pattern.finditer(message)\n",
    "\n",
    "for match in matches:\n",
    "    print(match)"
   ]
  },
  {
   "cell_type": "code",
   "execution_count": null,
   "metadata": {},
   "outputs": [
    {
     "data": {
      "text/plain": [
       "<re.Match object; span=(0, 12), match='998992210650'>"
      ]
     },
     "execution_count": 57,
     "metadata": {},
     "output_type": "execute_result"
    }
   ],
   "source": [
    "phone = '998992210650'\n",
    "\n",
    "pattern = re.compile(r'99\\d\\d{2}\\d{3}\\d{2}\\d{2}')\n",
    "\n",
    "re.match(pattern,phone)"
   ]
  },
  {
   "cell_type": "code",
   "execution_count": null,
   "metadata": {},
   "outputs": [],
   "source": [
    "message = 'a12 34567890 ABCDEFGHIJKL.MNOPQRSTUVWXYZabcfwfjjliupqrstuvwxyz!@#$%^&*()_+-='\n",
    "message2 = 'Ha HaHa'\n",
    "metachars = ['.', '', '%']\n",
    "\n",
    "pattern = re.compile('\\b')\n",
    "matches = pattern.finditer(message2)\n",
    "for match in matches:\n",
    "    print(match)\n",
    "# re.match(pattern, message2)"
   ]
  },
  {
   "cell_type": "code",
   "execution_count": 118,
   "metadata": {},
   "outputs": [
    {
     "name": "stderr",
     "output_type": "stream",
     "text": [
      "<>:3: SyntaxWarning: invalid escape sequence '\\d'\n",
      "<>:3: SyntaxWarning: invalid escape sequence '\\d'\n",
      "C:\\Users\\Inobat\\AppData\\Local\\Temp\\ipykernel_22768\\2139038549.py:3: SyntaxWarning: invalid escape sequence '\\d'\n",
      "  pattern = re.compile('99\\d\\d{2}\\d{3}\\d{2}\\d{2}')\n"
     ]
    },
    {
     "data": {
      "text/plain": [
       "<re.Match object; span=(0, 12), match='998995677867'>"
      ]
     },
     "execution_count": 118,
     "metadata": {},
     "output_type": "execute_result"
    }
   ],
   "source": [
    "phone = '998995677867'\n",
    "\n",
    "pattern = re.compile('99\\d\\d{2}\\d{3}\\d{2}\\d{2}')\n",
    "\n",
    "re.match(pattern, phone) "
   ]
  }
 ],
 "metadata": {
  "kernelspec": {
   "display_name": "Python 3",
   "language": "python",
   "name": "python3"
  },
  "language_info": {
   "codemirror_mode": {
    "name": "ipython",
    "version": 3
   },
   "file_extension": ".py",
   "mimetype": "text/x-python",
   "name": "python",
   "nbconvert_exporter": "python",
   "pygments_lexer": "ipython3",
   "version": "3.12.7"
  }
 },
 "nbformat": 4,
 "nbformat_minor": 2
}
