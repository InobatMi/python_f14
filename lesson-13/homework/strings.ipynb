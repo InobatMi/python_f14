{
 "cells": [
  {
   "cell_type": "code",
   "execution_count": 7,
   "metadata": {},
   "outputs": [
    {
     "name": "stdout",
     "output_type": "stream",
     "text": [
      "You are 18 years, 3 months, 0 days old\n"
     ]
    }
   ],
   "source": [
    "# 1. Age Calculator: Ask the user to enter their birthdate. \n",
    "# Calculate and print their age in years, months, and days.\n",
    "\n",
    "from datetime import datetime, time, date, timedelta\n",
    "from dateutil.relativedelta import relativedelta\n",
    "\n",
    "\n",
    "# strptime()\tConverts a string → datetime object\n",
    "# strftime()\tConverts a datetime → string\n",
    "\n",
    "\n",
    "birthdate = datetime.strptime(input('Enter your birthdate (DD-MM-YYYY): '), '%d-%m-%Y')\n",
    "age = relativedelta(datetime.now(), birthdate)\n",
    "print(f'You are {age.years} years, {age.months} months, {age.days} days old')\n"
   ]
  },
  {
   "cell_type": "code",
   "execution_count": null,
   "metadata": {},
   "outputs": [
    {
     "name": "stdout",
     "output_type": "stream",
     "text": [
      "275 left until your next birthday\n"
     ]
    }
   ],
   "source": [
    "# 2. Days Until Next Birthday: Similar to the first exercise, \n",
    "# but this time, calculate and print the number of days remaining until the user's next birthday.\n",
    "\n",
    "birthdate = datetime.strptime(input('Enter your birthdate (DD-MM-YYYY): '), '%d-%m-%Y')\n",
    "next_birthday = date(date.today().year, birthdate.month, birthdate.day)\n",
    "if next_birthday < date.today():\n",
    "    next_birthday = next_birthday.replace(year = next_birthday.year+1)\n",
    "days_remaining = (next_birthday - date.today()).days\n",
    "print(f'{days_remaining} left until your next birthday')"
   ]
  },
  {
   "cell_type": "code",
   "execution_count": 56,
   "metadata": {},
   "outputs": [
    {
     "name": "stdout",
     "output_type": "stream",
     "text": [
      "the meeting ends on 2025-03-23 08:30:00\n"
     ]
    }
   ],
   "source": [
    "# 3. Meeting Scheduler: Ask the user to enter the current date and time, \n",
    "# as well as the duration of a meeting in hours and minutes. \n",
    "# Calculate and print the date and time when the meeting will end.\n",
    "\n",
    "current_date = datetime.strptime(input('Enter the current date and time (DD-MM-YYYY HH:MM): '), '%d-%m-%Y %H:%M')\n",
    "duration = datetime.strptime(input('Enter the duration (HH:MM): '), '%H:%M')\n",
    "\n",
    "ending_time = current_date + timedelta(hours=duration.hour, minutes=duration.minute)\n",
    "\n",
    "print('the meeting ends on', ending_time)"
   ]
  },
  {
   "cell_type": "code",
   "execution_count": 75,
   "metadata": {},
   "outputs": [
    {
     "name": "stdout",
     "output_type": "stream",
     "text": [
      "2025-03-23 04:45:00+05:45\n"
     ]
    }
   ],
   "source": [
    "# 4. Timezone Converter: Create a program that allows the user to \n",
    "# enter a date and time along with their current timezone, and then \n",
    "# convert and print the date and time in another timezone of their choice.\n",
    "\n",
    "import pytz\n",
    "\n",
    "date1 = datetime.strptime(input('Enter the current date and time (DD-MM-YYYY HH:MM): '), '%d-%m-%Y %H:%M')\n",
    "timezone = pytz.timezone(input('Enter your current timezone (Continent/City): '))\n",
    "diff_timezone = pytz.timezone(input('Enter your another timezone (Continent/City): '))\n",
    "\n",
    "converted_time = timezone.localize(date1).astimezone(diff_timezone)\n",
    "print(converted_time)\n",
    "\n",
    "\n",
    "\n"
   ]
  },
  {
   "cell_type": "code",
   "execution_count": null,
   "metadata": {},
   "outputs": [
    {
     "name": "stdout",
     "output_type": "stream",
     "text": [
      "0:00:22.660395\n",
      "0:00:17.659126\n",
      "0:00:12.658531\n",
      "0:00:07.657690\n",
      "0:00:02.656768\n"
     ]
    }
   ],
   "source": [
    "# 5. Countdown Timer: Implement a countdown timer. \n",
    "# Ask the user to input a future date and time, and then continuously \n",
    "# print the time remaining until that point in regular intervals (e.g., every second).\n",
    "import time\n",
    "\n",
    "future_date = datetime.strptime(input('Enter the current date and time (DD-MM-YYYY HH:MM): '), '%d-%m-%Y %H:%M')\n",
    "\n",
    "while True:\n",
    "    if datetime.now() <= future_date:\n",
    "        print(future_date - datetime.now())\n",
    "        time.sleep(1)\n",
    "    else:\n",
    "        break"
   ]
  },
  {
   "cell_type": "code",
   "execution_count": 107,
   "metadata": {},
   "outputs": [
    {
     "name": "stdout",
     "output_type": "stream",
     "text": [
      "It follows valid email format\n"
     ]
    }
   ],
   "source": [
    "# 6. Email Validator: Write a program that validates email addresses. \n",
    "# Ask the user to input an email address, and check if it follows a valid email format.\n",
    "import re\n",
    "\n",
    "email = input('Enter email address')\n",
    "pattern = re.compile(r'^[\\w.+-]+@\\w+\\.[A-Za-z]+$')\n",
    "\n",
    "if re.match(pattern, email):\n",
    "    print('It follows valid email format')\n",
    "else:\n",
    "    print('It does not follow valid email format')"
   ]
  },
  {
   "cell_type": "code",
   "execution_count": 137,
   "metadata": {},
   "outputs": [
    {
     "name": "stdout",
     "output_type": "stream",
     "text": [
      "(123) 456-7890\n"
     ]
    }
   ],
   "source": [
    "# 7. Phone Number Formatter: Create a program that takes a phone number \n",
    "# as input and formats it according to a standard format. \n",
    "# For example, convert \"1234567890\" to \"(123) 456-7890\".\n",
    "phone_num = input('Enter phone number')\n",
    "clean_phone_num = phone_num.replace('-', '').replace(' ', '').replace('(', '').replace(')', '')\n",
    "if len(clean_phone_num) <= 10:\n",
    "        print(f'({clean_phone_num[:3]}) {clean_phone_num[3:6]}-{clean_phone_num[6:]}')\n",
    "else:\n",
    "        print('Enter 9 or 10 digit phone number')"
   ]
  },
  {
   "cell_type": "code",
   "execution_count": 136,
   "metadata": {},
   "outputs": [
    {
     "name": "stdout",
     "output_type": "stream",
     "text": [
      "The password is weak yet\n"
     ]
    }
   ],
   "source": [
    "# 8. Password Strength Checker: Implement a password strength checker. \n",
    "# Ask the user to input a password and check if it meets certain criteria \n",
    "# (e.g., minimum length, contains at least one uppercase letter, one lowercase letter, and one digit).\n",
    "\n",
    "\n",
    "password = input('Enter a password: ')\n",
    "pattern = re.compile(r'^(?=.*[a-z])(?=.*[A-Z])(?=.*\\d).{5,}$')\n",
    "\n",
    "if re.match(pattern, password):\n",
    "    print('The password is strong')\n",
    "else:\n",
    "    print('The password is weak yet')"
   ]
  },
  {
   "cell_type": "code",
   "execution_count": 111,
   "metadata": {},
   "outputs": [
    {
     "name": "stdout",
     "output_type": "stream",
     "text": [
      "<re.Match object; span=(20, 24), match='name'>\n",
      "<re.Match object; span=(37, 41), match='name'>\n"
     ]
    }
   ],
   "source": [
    "# 9. Word Finder: Develop a program that finds all occurrences \n",
    "# of a specific word in a given text. Ask the user to input a word, \n",
    "# and then search for and print all occurrences of that word in a sample text.\n",
    "\n",
    "message = 'Hello Heyy hello my name is woo your name is you etc'\n",
    "word = input('Enter a word you want to find')\n",
    "\n",
    "pattern = re.compile(word)\n",
    "matches = pattern.finditer(message)\n",
    "\n",
    "for match in matches:\n",
    "    print(match)"
   ]
  },
  {
   "cell_type": "code",
   "execution_count": null,
   "metadata": {},
   "outputs": [
    {
     "name": "stdout",
     "output_type": "stream",
     "text": [
      "<re.Match object; span=(13, 23), match='23-03-2025'>\n",
      "<re.Match object; span=(35, 49), match='March 23, 2025'>\n",
      "<re.Match object; span=(59, 74), match='23rd March 2025'>\n"
     ]
    }
   ],
   "source": [
    "# 10. Date Extractor: Write a program that extracts dates from a given text. \n",
    "# Ask the user to input a text, and then identify and print all the dates present in the text.\n",
    "\n",
    "message = input('Enter a text: ')\n",
    "\n",
    "pattern = re.compile(\n",
    "    r'\\b(\\d{1,2}[-/.]\\d{1,2}[-/.]\\d{2,4})\\b|'  \n",
    "    r'\\b(\\d{1,2}(?:st|nd|rd|th)?\\s+[A-Za-z]+\\s+\\d{4})\\b|'  \n",
    "    r'\\b([A-Za-z]+\\s+\\d{1,2},\\s+\\d{4})\\b' \n",
    ")\n",
    "matches = pattern.finditer(message)\n",
    "\n",
    "for match in matches:\n",
    "    print(match)"
   ]
  }
 ],
 "metadata": {
  "kernelspec": {
   "display_name": "Python 3",
   "language": "python",
   "name": "python3"
  },
  "language_info": {
   "codemirror_mode": {
    "name": "ipython",
    "version": 3
   },
   "file_extension": ".py",
   "mimetype": "text/x-python",
   "name": "python",
   "nbconvert_exporter": "python",
   "pygments_lexer": "ipython3",
   "version": "3.12.7"
  }
 },
 "nbformat": 4,
 "nbformat_minor": 2
}
