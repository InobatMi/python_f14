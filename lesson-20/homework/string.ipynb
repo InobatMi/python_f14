{
 "cells": [
  {
   "cell_type": "code",
   "execution_count": 27,
   "metadata": {},
   "outputs": [
    {
     "name": "stdout",
     "output_type": "stream",
     "text": [
      "   Customer_ID    CustomerName  Total_Spent\n",
      "0           15   Benjamin King       400.75\n",
      "1           13  William Walker       320.00\n",
      "2           19    Henry Nelson       275.25\n",
      "3           14    James Harris       250.00\n",
      "4            7    David Wilson       230.00\n"
     ]
    }
   ],
   "source": [
    "# Homework 1:\n",
    "\n",
    "# Using chinook.db write pandas code.\n",
    "\n",
    "# 1. Customer Purchases Analysis:\n",
    "\n",
    "# - Find the total amount spent by each customer on purchases (considering invoices).\n",
    "# - Identify the top 5 customers with the highest total purchase amounts.\n",
    "# - Display the customer ID, name, and the total amount spent for the top 5 customers.\n",
    "\n",
    "\n",
    "import sqlite3\n",
    "import pandas as pd\n",
    "\n",
    "# Connect to the database\n",
    "conn = sqlite3.connect(\"chinook.db\")\n",
    "\n",
    "# Query total purchase amount per customer\n",
    "query = \"\"\" \n",
    "SELECT c.CustomerId AS Customer_ID, \n",
    "       COALESCE(c.FirstName, '') || ' ' || COALESCE(c.LastName, '') AS CustomerName,  \n",
    "       SUM(i.Total) AS Total_Spent\n",
    "FROM customers c\n",
    "JOIN invoices i ON c.CustomerId = i.CustomerId\n",
    "GROUP BY c.CustomerId\n",
    "ORDER BY Total_Spent DESC\n",
    "LIMIT 5;\n",
    "\"\"\"\n",
    "\n",
    "# Read the result into a DataFrame\n",
    "top_customers = pd.read_sql(query, conn)\n",
    "\n",
    "# Close the connection\n",
    "conn.close()\n",
    "\n",
    "# Display the result\n",
    "print(top_customers)\n"
   ]
  },
  {
   "cell_type": "code",
   "execution_count": 26,
   "metadata": {},
   "outputs": [
    {
     "name": "stdout",
     "output_type": "stream",
     "text": [
      "   IndividualTrackPercentage  FullAlbumPercentage\n",
      "0                  77.777778            22.222222\n"
     ]
    }
   ],
   "source": [
    "# 2. Album vs. Individual Track Purchases:\n",
    "\n",
    "# - Determine the percentage of customers who prefer to buy individual tracks instead of full albums.\n",
    "# - A customer is considered to prefer individual tracks if they have purchased only a subset of tracks from an album.\n",
    "# - Provide a summary of the percentage of customers who fall into each category (individual tracks vs. full albums).\n",
    "\n",
    "\n",
    "\n",
    "import sqlite3\n",
    "import pandas as pd\n",
    "\n",
    "# Connect to SQLite database\n",
    "conn = sqlite3.connect(\"chinook.db\")\n",
    "\n",
    "# Optimized SQL Query\n",
    "query = \"\"\"\n",
    "with PurchaseAnalysis as (\n",
    "    select i.CustomerId, t.AlbumId, COUNT(DISTINCT tp.TrackId) AS TracksPurchased,\n",
    "           (select COUNT(*) FROM tracks WHERE AlbumId = t.AlbumId) AS TotalAlbumTracks\n",
    "    FROM track_purchases tp\n",
    "    JOIN invoices i ON tp.InvoiceId = i.InvoiceId\n",
    "    JOIN tracks t ON tp.TrackId = t.TrackId\n",
    "    GROUP BY i.CustomerId, t.AlbumId\n",
    ")\n",
    "SELECT \n",
    "    100.0 * SUM(TracksPurchased < TotalAlbumTracks) / COUNT(*) AS IndividualTrackPercentage,\n",
    "    100.0 * SUM(TracksPurchased = TotalAlbumTracks) / COUNT(*) AS FullAlbumPercentage\n",
    "FROM PurchaseAnalysis;\n",
    "\"\"\"\n",
    "\n",
    "# Execute the query and display results\n",
    "summary = pd.read_sql(query, conn)\n",
    "conn.close()\n",
    "\n",
    "print(summary)"
   ]
  }
 ],
 "metadata": {
  "kernelspec": {
   "display_name": "Python 3",
   "language": "python",
   "name": "python3"
  },
  "language_info": {
   "codemirror_mode": {
    "name": "ipython",
    "version": 3
   },
   "file_extension": ".py",
   "mimetype": "text/x-python",
   "name": "python",
   "nbconvert_exporter": "python",
   "pygments_lexer": "ipython3",
   "version": "3.12.7"
  }
 },
 "nbformat": 4,
 "nbformat_minor": 2
}
