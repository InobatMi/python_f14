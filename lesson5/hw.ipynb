{
 "cells": [
  {
   "cell_type": "code",
   "execution_count": null,
   "metadata": {},
   "outputs": [
    {
     "name": "stdout",
     "output_type": "stream",
     "text": [
      "you can be Data Engineer\n"
     ]
    }
   ],
   "source": [
    "is_known_SQL = input('enter \"yes\" if you know SQL else \"no\"')\n",
    "\n",
    "if is_known_SQL == 'no':\n",
    "    is_known_Python = input('enter \"yes\" if you know Python else \"no\"')\n",
    "    if is_known_Python == 'no':\n",
    "        print('sorry: your candidate is not appropriate')     \n",
    "    else: \n",
    "        print('you can be Data Engineer')\n",
    "else: \n",
    "    is_known_Python = input('enter \"yes\" if you know Python else \"no\"')\n",
    "    if is_known_Python == 'no':\n",
    "        print('you can be Data Analyst')\n",
    "    else: \n",
    "        print('you can be BI developer')\n",
    "        "
   ]
  },
  {
   "cell_type": "code",
   "execution_count": 11,
   "metadata": {},
   "outputs": [
    {
     "name": "stdout",
     "output_type": "stream",
     "text": [
      "It is NOT a leap year\n"
     ]
    }
   ],
   "source": [
    "year = int(input('Enter the year:'))\n",
    "\n",
    "if (year % 4 == 0 and year % 100 != 0) or (year % 400 == 0):\n",
    "    print('It is a leap year')\n",
    "else:\n",
    "    print('It is NOT a leap year')\n",
    "    "
   ]
  },
  {
   "cell_type": "code",
   "execution_count": 14,
   "metadata": {},
   "outputs": [
    {
     "name": "stdout",
     "output_type": "stream",
     "text": [
      "You can vote. Yeayyy!\n"
     ]
    }
   ],
   "source": [
    "age = int(input(\"Enter your age:\"))\n",
    "\n",
    "if age >= 18:\n",
    "    print('You can vote. Yeayyy!')\n",
    "else:\n",
    "    print('You cannot vote')"
   ]
  },
  {
   "cell_type": "code",
   "execution_count": 15,
   "metadata": {},
   "outputs": [
    {
     "name": "stdout",
     "output_type": "stream",
     "text": [
      "number is even\n"
     ]
    }
   ],
   "source": [
    "num = int(input(\"Enter a number:\"))\n",
    "\n",
    "\n",
    "if num % 2 == 0:\n",
    "    print('number is even')\n",
    "else:\n",
    "    print('number is odd')\n",
    "    "
   ]
  },
  {
   "cell_type": "code",
   "execution_count": 17,
   "metadata": {},
   "outputs": [
    {
     "name": "stdout",
     "output_type": "stream",
     "text": [
      "number is NOT divisible by 7\n"
     ]
    }
   ],
   "source": [
    "num = 9\n",
    "\n",
    "\n",
    "if num % 7 == 0:\n",
    "    print('number is divisible by 7')\n",
    "else:\n",
    "    print('number is NOT divisible by 7')"
   ]
  },
  {
   "cell_type": "code",
   "execution_count": 21,
   "metadata": {},
   "outputs": [
    {
     "name": "stdout",
     "output_type": "stream",
     "text": [
      "Hello\n"
     ]
    }
   ],
   "source": [
    "num = 10\n",
    "\n",
    "\n",
    "if num % 5 == 0:\n",
    "    print('Hello')\n",
    "else:\n",
    "    print('Bye')"
   ]
  },
  {
   "cell_type": "code",
   "execution_count": 24,
   "metadata": {},
   "outputs": [
    {
     "name": "stdout",
     "output_type": "stream",
     "text": [
      "2000\n"
     ]
    }
   ],
   "source": [
    "unit = int(input('Enter a unit:'))\n",
    "price = 0\n",
    "\n",
    "if unit >0:\n",
    "    if unit <= 100:\n",
    "        price = 0\n",
    "    elif unit <=200:\n",
    "        price = (unit-100)*5\n",
    "    else:\n",
    "        price = (unit - 200)*10 + 500\n",
    "print(price)"
   ]
  },
  {
   "cell_type": "code",
   "execution_count": 27,
   "metadata": {},
   "outputs": [
    {
     "name": "stdout",
     "output_type": "stream",
     "text": [
      "6\n"
     ]
    }
   ],
   "source": [
    "num = 16\n",
    "\n",
    "print(num%10)"
   ]
  },
  {
   "cell_type": "code",
   "execution_count": 34,
   "metadata": {},
   "outputs": [
    {
     "name": "stdout",
     "output_type": "stream",
     "text": [
      "last digit is divisible\n"
     ]
    }
   ],
   "source": [
    "num = 13\n",
    "\n",
    "\n",
    "if num % 10 % 3 == 0:\n",
    "    print('last digit is divisible')\n",
    "else:\n",
    "    print('last digit is NOT divisible')\n"
   ]
  },
  {
   "cell_type": "code",
   "execution_count": 38,
   "metadata": {},
   "outputs": [
    {
     "name": "stdout",
     "output_type": "stream",
     "text": [
      "B\n"
     ]
    }
   ],
   "source": [
    "mark = int(input('Enter a percentage:'))\n",
    "\n",
    "if mark >=0 and mark <=100:\n",
    "    if mark > 90:\n",
    "        grade = 'A'\n",
    "    elif mark > 80:\n",
    "        grade = 'B'      \n",
    "    elif mark >= 60:\n",
    "        grade = 'C'      \n",
    "    else:\n",
    "        grade = 'D'      \n",
    "        \n",
    "print(grade)"
   ]
  },
  {
   "cell_type": "code",
   "execution_count": 40,
   "metadata": {},
   "outputs": [
    {
     "name": "stdout",
     "output_type": "stream",
     "text": [
      "2500.0\n"
     ]
    }
   ],
   "source": [
    "price = int(input('Enter a price of a bike:'))\n",
    "tax = 0\n",
    "\n",
    "if price >0:\n",
    "    if price <= 50000:\n",
    "        tax = 0.05*price\n",
    "    elif price <=100000:\n",
    "        tax = 0.1*price\n",
    "    else:\n",
    "        tax = 0.15*price\n",
    "print(tax)"
   ]
  },
  {
   "cell_type": "code",
   "execution_count": 42,
   "metadata": {},
   "outputs": [
    {
     "name": "stdout",
     "output_type": "stream",
     "text": [
      "Thursday\n"
     ]
    }
   ],
   "source": [
    "day = int(input('Write num between 1 and 7:'))\n",
    "\n",
    "if day == 1:\n",
    "    print('Monday')\n",
    "elif day == 2:\n",
    "    print('Tuesday')\n",
    "elif day == 3:\n",
    "    print('Wednesday')\n",
    "elif day == 4:\n",
    "    print('Thursday')\n",
    "elif day == 5:\n",
    "    print('Friday')\n",
    "elif day == 6:\n",
    "    print('Saturday')\n",
    "elif day == 7:\n",
    "    print('Sunday')\n",
    "else:\n",
    "    print('Write num between 1 and 7')"
   ]
  },
  {
   "cell_type": "code",
   "execution_count": 44,
   "metadata": {},
   "outputs": [
    {
     "name": "stdout",
     "output_type": "stream",
     "text": [
      "it is June\n",
      "The month has 30 days\n"
     ]
    }
   ],
   "source": [
    "month = int(input('Write num between 1 and 12:'))\n",
    "\n",
    "if month == 2:\n",
    "    print('February has 29 days in a leap year and 28 days in a common year')\n",
    "elif month in [4, 6, 9,11]:\n",
    "    if month == 4:\n",
    "        print('it is April')\n",
    "    elif month == 6:\n",
    "        print('it is June')\n",
    "    elif month == 9:\n",
    "        print('it is September')\n",
    "    elif month == 11:\n",
    "        print('it is November')\n",
    "    print('The month has 30 days')\n",
    "elif month in [1, 3, 7, 8, 10, 12]:\n",
    "    if month == 1:\n",
    "        print('it is January')\n",
    "    elif month == 3:\n",
    "        print('it is March')\n",
    "    elif month == 7:\n",
    "        print('it is July')\n",
    "    elif month == 8:\n",
    "        print('it is August')\n",
    "    elif month == 10:\n",
    "        print('it is October')\n",
    "    elif month == 12:\n",
    "        print('it is December')\n",
    "    print('The month has 31 days')\n",
    "else:\n",
    "    print('Write num between 1 and 12')"
   ]
  },
  {
   "cell_type": "code",
   "execution_count": 46,
   "metadata": {},
   "outputs": [
    {
     "name": "stdout",
     "output_type": "stream",
     "text": [
      "Taj Mahal\n"
     ]
    }
   ],
   "source": [
    "city = input('Write any city:')\n",
    "\n",
    "if city.title() == 'Delhi':\n",
    "    print('Red Fort')\n",
    "elif city.title() == 'Agra':\n",
    "    print('Taj Mahal')\n",
    "elif city.title() == 'Jaipur':\n",
    "    print('Jal Mahal')\n",
    "else:\n",
    "    print('there is no city in the list')"
   ]
  },
  {
   "cell_type": "code",
   "execution_count": 51,
   "metadata": {},
   "outputs": [
    {
     "name": "stdout",
     "output_type": "stream",
     "text": [
      "number is three digit number\n"
     ]
    }
   ],
   "source": [
    "num = int(input('Enter any number:'))\n",
    "\n",
    "\n",
    "if num / 100 >= 1:\n",
    "    print('number is three digit number')\n",
    "else:\n",
    "    print('number is NOT three digit number')"
   ]
  },
  {
   "cell_type": "code",
   "execution_count": 53,
   "metadata": {},
   "outputs": [
    {
     "name": "stdout",
     "output_type": "stream",
     "text": [
      "You are senior citizen\n"
     ]
    }
   ],
   "source": [
    "age = int(input(\"Enter your age:\"))\n",
    "\n",
    "if age > 0:\n",
    "    if age >= 60:\n",
    "        print('You are senior citizen')\n",
    "    else:\n",
    "        print('You are NOT senior citizen')"
   ]
  },
  {
   "cell_type": "code",
   "execution_count": 54,
   "metadata": {},
   "outputs": [
    {
     "name": "stdout",
     "output_type": "stream",
     "text": [
      "second number is lower than first one\n"
     ]
    }
   ],
   "source": [
    "number1 = int(input('Enter first number:'))\n",
    "number2 = int(input('Enter second number:'))\n",
    "\n",
    "if number1 == number2: \n",
    "    print('both numbers are same')\n",
    "elif number2 < number1:\n",
    "    print('second number is lower than first one')\n",
    "else:\n",
    "    print('first number is lower than second one')\n",
    " "
   ]
  },
  {
   "cell_type": "code",
   "execution_count": 56,
   "metadata": {},
   "outputs": [
    {
     "name": "stdout",
     "output_type": "stream",
     "text": [
      "second number is larger than first one\n"
     ]
    }
   ],
   "source": [
    "number1 = int(input('Enter first number:'))\n",
    "number2 = int(input('Enter second number:'))\n",
    "\n",
    "if number1 == number2: \n",
    "    print('both numbers are same')\n",
    "elif number2 > number1:\n",
    "    print('second number is larger than first one')\n",
    "else:\n",
    "    print('first number is larger than second one')"
   ]
  },
  {
   "cell_type": "code",
   "execution_count": null,
   "metadata": {},
   "outputs": [
    {
     "name": "stdout",
     "output_type": "stream",
     "text": [
      "it is positive number\n"
     ]
    }
   ],
   "source": [
    "number = int(input('Enter a number:'))\n",
    "\n",
    "if number == 0: \n",
    "    print('it is neither negative nor positive number')\n",
    "elif number > 0:\n",
    "    print('it is positive number')\n",
    "else:\n",
    "    print('it is negative number')"
   ]
  },
  {
   "cell_type": "code",
   "execution_count": 58,
   "metadata": {},
   "outputs": [
    {
     "name": "stdout",
     "output_type": "stream",
     "text": [
      "it is even number\n"
     ]
    }
   ],
   "source": [
    "number = int(input('Enter a number:'))\n",
    "\n",
    "if number % 2 == 0: \n",
    "    print('it is even number')\n",
    "else:\n",
    "    print('it is odd number')"
   ]
  },
  {
   "cell_type": "code",
   "execution_count": 60,
   "metadata": {},
   "outputs": [
    {
     "name": "stdout",
     "output_type": "stream",
     "text": [
      "it is NOT divisible by 2 and 3\n"
     ]
    }
   ],
   "source": [
    "number = int(input('Enter a number:'))\n",
    "\n",
    "if number % 2 == 0 and number % 3 == 0: \n",
    "    print('it is divisible by 2 and 3')\n",
    "else:\n",
    "    print('it is NOT divisible by 2 and 3')"
   ]
  },
  {
   "cell_type": "code",
   "execution_count": 67,
   "metadata": {},
   "outputs": [
    {
     "name": "stdout",
     "output_type": "stream",
     "text": [
      "third number is the largest: 1\n"
     ]
    }
   ],
   "source": [
    "number1 = int(input('Enter first number:'))\n",
    "number2 = int(input('Enter second number:'))\n",
    "number3 = int(input('Enter third number:'))\n",
    "\n",
    "if number1 == number2 == number3: \n",
    "    print('all numbers are same')\n",
    "elif number2 > number1 and number2 > number3:\n",
    "    print('second number is the largest:', number2)\n",
    "elif number1 > number2 and number1 > number3:\n",
    "    print('first number is the largest:', number1)\n",
    "else:\n",
    "    print('third number is the largest:', number3)"
   ]
  },
  {
   "cell_type": "code",
   "execution_count": 65,
   "metadata": {},
   "outputs": [
    {
     "name": "stdout",
     "output_type": "stream",
     "text": [
      "water is boiling\n"
     ]
    }
   ],
   "source": [
    "degree = int(input('Enter a temperature of water (in Celsius):'))\n",
    "\n",
    "if degree >= 100: \n",
    "    print('water is boiling')\n",
    "else:\n",
    "    print('water is NOT boiling')"
   ]
  },
  {
   "cell_type": "code",
   "execution_count": null,
   "metadata": {},
   "outputs": [
    {
     "name": "stdout",
     "output_type": "stream",
     "text": [
      "first person is the youngest: 2\n"
     ]
    }
   ],
   "source": [
    "age1 = int(input('Enter age of the first person:'))\n",
    "age2 = int(input('Enter age of the second person:'))\n",
    "age3 = int(input('Enter age of the third person:'))\n",
    "age4 = int(input('Enter age of the fourth person:'))\n",
    "\n",
    "if age1 == age2 == age3 == age4: \n",
    "    print('all are the same age')\n",
    "elif age1 < age3 and age1 < age2 and age1 < age4:\n",
    "    print('first person is the youngest:', age1)\n",
    "elif age2 < age3 and age2 < age3 and age2 < age4:\n",
    "    print('second person is the youngest:', age2)\n",
    "elif age3 < age1 and age3 < age2 and age3 < age4:\n",
    "    print('third person is the youngest:', age3)\n",
    "else:\n",
    "    print('fourth person is the youngest:', age4)"
   ]
  },
  {
   "cell_type": "code",
   "execution_count": 72,
   "metadata": {},
   "outputs": [
    {
     "name": "stdout",
     "output_type": "stream",
     "text": [
      "fourth person is the oldest: 6\n"
     ]
    }
   ],
   "source": [
    "age1 = int(input('Enter age of the first person:'))\n",
    "age2 = int(input('Enter age of the second person:'))\n",
    "age3 = int(input('Enter age of the third person:'))\n",
    "age4 = int(input('Enter age of the fourth person:'))\n",
    "\n",
    "if age1 == age2 == age3 == age4: \n",
    "    print('all are the same age')\n",
    "elif age1 > age3 and age1 > age2 and age1 > age4:\n",
    "    print('first person is the oldest:', age1)\n",
    "elif age2 > age3 and age2 > age3 and age2 > age4:\n",
    "    print('second person is the oldest:', age2)\n",
    "elif age3 > age1 and age3 > age2 and age3 > age4:\n",
    "    print('third person is the oldest:', age3)\n",
    "else:\n",
    "    print('fourth person is the oldest:', age4)"
   ]
  },
  {
   "cell_type": "code",
   "execution_count": 73,
   "metadata": {},
   "outputs": [
    {
     "name": "stdout",
     "output_type": "stream",
     "text": [
      "Prime\n"
     ]
    }
   ],
   "source": [
    "number = int(input('enter number:'))\n",
    "inc = 2\n",
    "\n",
    "for i in range(inc, number):\n",
    "    if number % i == 0:\n",
    "        print('Not prime')\n",
    "        break\n",
    "    else:\n",
    "        pass\n",
    "else:\n",
    "    print('Prime')\n"
   ]
  },
  {
   "cell_type": "code",
   "execution_count": 75,
   "metadata": {},
   "outputs": [
    {
     "name": "stdout",
     "output_type": "stream",
     "text": [
      "it is vowel\n"
     ]
    }
   ],
   "source": [
    "char = 'a'\n",
    "\n",
    "if char in 'auioeAUIOE':\n",
    "    print('it is vowel')\n",
    "else:\n",
    "    print('it is NOT vowel')"
   ]
  },
  {
   "cell_type": "code",
   "execution_count": 78,
   "metadata": {},
   "outputs": [
    {
     "name": "stdout",
     "output_type": "stream",
     "text": [
      "you are eligible for exam\n"
     ]
    }
   ],
   "source": [
    "working_days = int(input('Enter total number of working days'))\n",
    "absent_days = int(input('Enter total ofdays for absent'))\n",
    "\n",
    "percentage = absent_days/working_days * 100\n",
    "\n",
    "if percentage < 75:\n",
    "    print('you are not eligible for exam')\n",
    "else:\n",
    "    print('you are eligible for exam')\n"
   ]
  },
  {
   "cell_type": "code",
   "execution_count": 80,
   "metadata": {},
   "outputs": [
    {
     "name": "stdout",
     "output_type": "stream",
     "text": [
      "C\n"
     ]
    }
   ],
   "source": [
    "mark = int(input('Enter a percentage:'))\n",
    "\n",
    "if mark >=0 and mark <=100:\n",
    "    if mark > 80:\n",
    "        grade = 'A+'\n",
    "    elif mark > 60:\n",
    "        grade = 'A'      \n",
    "    elif mark > 50:\n",
    "        grade = 'B+'      \n",
    "    elif mark > 45:\n",
    "        grade = 'B'      \n",
    "    elif mark > 25:\n",
    "        grade = 'C'      \n",
    "    else:\n",
    "        grade = 'D'      \n",
    "        \n",
    "print(grade)"
   ]
  },
  {
   "cell_type": "code",
   "execution_count": 84,
   "metadata": {},
   "outputs": [
    {
     "name": "stdout",
     "output_type": "stream",
     "text": [
      "6.48\n"
     ]
    }
   ],
   "source": [
    "service_years = int(input('Enter years of service:'))\n",
    "salary = int(input('Enter your salary'))\n",
    "\n",
    "if service_years > 0:\n",
    "    if service_years < 6:\n",
    "        print(salary + service_years * 0.05)\n",
    "    elif service_years <=10:\n",
    "        print(salary + service_years * 0.08)\n",
    "    else:\n",
    "        print(salary + service_years * 0.1)"
   ]
  },
  {
   "cell_type": "code",
   "execution_count": 85,
   "metadata": {},
   "outputs": [
    {
     "name": "stdout",
     "output_type": "stream",
     "text": [
      "2700.0\n"
     ]
    }
   ],
   "source": [
    "marked_price = int(input('Enter years of service:'))\n",
    "\n",
    "if marked_price > 0:\n",
    "    if marked_price <= 7000:\n",
    "        print(marked_price - marked_price * 0.1)\n",
    "    elif marked_price <=10000:\n",
    "        print(marked_price - marked_price * 0.15)\n",
    "    else:\n",
    "        print(marked_price - marked_price * 0.2)"
   ]
  },
  {
   "cell_type": "code",
   "execution_count": 88,
   "metadata": {},
   "outputs": [
    {
     "name": "stdout",
     "output_type": "stream",
     "text": [
      "Fair\n"
     ]
    }
   ],
   "source": [
    "mark = int(input('Enter a percentage:'))\n",
    "\n",
    "if mark >=0 and mark <=100:\n",
    "    if mark >= 65:\n",
    "        grade = 'Excellend'\n",
    "    elif mark >= 55:\n",
    "        grade = 'Good'      \n",
    "    elif mark >= 40:\n",
    "        grade = 'Fair'      \n",
    "    else:\n",
    "        grade = 'Failed'      \n",
    "        \n",
    "print(grade)"
   ]
  },
  {
   "cell_type": "code",
   "execution_count": 90,
   "metadata": {},
   "outputs": [
    {
     "name": "stdout",
     "output_type": "stream",
     "text": [
      "Scalene triangle\n"
     ]
    }
   ],
   "source": [
    "a = int(input(\"First side: \"))\n",
    "b = int(input(\"Second side: \"))\n",
    "c = int(input(\"Third side: \"))\n",
    "\n",
    "if a<b+c and b<a+c and c<b+a:\n",
    "    if a==b==c:\n",
    "        print(\"It is Equilateral triangle\")\n",
    "    elif a==b!=c or b==c!=a or a==c!=b:\n",
    "        print(\"Isosceles triangle\")\n",
    "    elif a!=b!=c:\n",
    "        print(\"Scalene triangle\")\n",
    "    elif c*c==a*a+b*b or a*a==b*b+c*c or b*b==a*a+c*c:\n",
    "        print(\"Rectangular triangle\")\n",
    "else:\n",
    "    print(\"It is NOT triangle sides\")"
   ]
  },
  {
   "cell_type": "code",
   "execution_count": 92,
   "metadata": {},
   "outputs": [
    {
     "name": "stdout",
     "output_type": "stream",
     "text": [
      "-1\n"
     ]
    }
   ],
   "source": [
    "number1 = int(input('Enter first number:'))\n",
    "number2 = int(input('Enter second number:'))\n",
    "operator = input('Enter operator:')\n",
    "\n",
    "if operator == '+': \n",
    "    print(number1 + number2)\n",
    "elif operator == '-':\n",
    "    print(number1 - number2)\n",
    "elif operator == '/':\n",
    "    print(number1 / number2)\n",
    "elif operator == '*':\n",
    "    print(number1 * number2)\n",
    "elif operator == '**':\n",
    "    print(number1 ** number2)\n",
    "elif operator == '//':\n",
    "    print(number1 // number2)\n",
    "elif operator == '%':\n",
    "    print(number1 % number2)"
   ]
  },
  {
   "cell_type": "code",
   "execution_count": 102,
   "metadata": {},
   "outputs": [
    {
     "name": "stdout",
     "output_type": "stream",
     "text": [
      "850 wage per day\n"
     ]
    }
   ],
   "source": [
    "age = int(input('Enter the age:'))\n",
    "sex = input('Enter the sex (M or F):')\n",
    "\n",
    "if age >=18 and age < 30:\n",
    "    if sex.upper() == 'M':\n",
    "        print('700 wage per day')\n",
    "    elif sex.upper() == 'F':\n",
    "        print('750 wage per day')\n",
    "elif age <= 40:\n",
    "    if sex.upper() == 'M':\n",
    "        print('800 wage per day')\n",
    "    elif sex.upper() == 'F':\n",
    "        print('850 wage per day')\n",
    "else:\n",
    "    print('Enter apporpriate age')"
   ]
  },
  {
   "cell_type": "code",
   "execution_count": 104,
   "metadata": {},
   "outputs": [
    {
     "name": "stdout",
     "output_type": "stream",
     "text": [
      "2 is second largest\n"
     ]
    }
   ],
   "source": [
    "num1 = int(input('Enter first number:'))\n",
    "num2 = int(input('Enter second number:'))\n",
    "num3 = int(input('Enter third number:'))\n",
    "\n",
    "if (num1 > num2 and num1 < num3) or (num1 > num3 and num1 < num2):\n",
    "    print(num1, 'is second largest')\n",
    "elif (num2 > num1 and num2 < num3) or (num2 > num3 and num2 < num1):\n",
    "    print(num2, 'is second largest')\n",
    "else:\n",
    "    print(num3, 'is second largest')"
   ]
  },
  {
   "cell_type": "code",
   "execution_count": null,
   "metadata": {},
   "outputs": [],
   "source": [
    "a = int(input(\"First side: \"))\n",
    "b = int(input(\"Second side: \"))\n",
    "c = int(input(\"Third side: \"))\n",
    "\n",
    "if a<b+c and b<a+c and c<b+a:\n",
    "    print(\"It is triangle sides\")\n",
    "else:\n",
    "    print(\"It is NOT triangle sides\")"
   ]
  },
  {
   "cell_type": "code",
   "execution_count": 107,
   "metadata": {},
   "outputs": [
    {
     "name": "stdout",
     "output_type": "stream",
     "text": [
      "17 15 17\n"
     ]
    }
   ],
   "source": [
    "i = 25\n",
    "j = 15\n",
    "k =17\n",
    "\n",
    "if i < j:\n",
    "    if j < k:\n",
    "        i = j\n",
    "    else:\n",
    "        j = k\n",
    "else:\n",
    "    if j > k:\n",
    "        j = i\n",
    "    else:\n",
    "        i = k\n",
    "print(i, j, k)"
   ]
  },
  {
   "cell_type": "code",
   "execution_count": null,
   "metadata": {},
   "outputs": [
    {
     "name": "stdout",
     "output_type": "stream",
     "text": [
      "1400\n"
     ]
    }
   ],
   "source": [
    "unit = int(input('Enter a electrical unit:'))\n",
    "bill = 0\n",
    "\n",
    "if unit >0:\n",
    "    if unit <= 100:\n",
    "        bill = 0\n",
    "    elif unit <=300:\n",
    "        bill = (unit-100)*2\n",
    "    else:\n",
    "        bill = (unit - 300)*5 + 400\n",
    "print(bill)"
   ]
  },
  {
   "cell_type": "code",
   "execution_count": 109,
   "metadata": {},
   "outputs": [
    {
     "name": "stdout",
     "output_type": "stream",
     "text": [
      "48\n"
     ]
    }
   ],
   "source": [
    "days = int(input('Enter the number of days:'))\n",
    "charge = 0\n",
    "\n",
    "if days >0:\n",
    "    if days <= 5:\n",
    "        charge = 2 * days\n",
    "    elif days <=10:\n",
    "        charge = days*3\n",
    "    elif days <=15:\n",
    "        charge = days*4\n",
    "    else:\n",
    "        charge = days * 5\n",
    "print(charge)"
   ]
  },
  {
   "cell_type": "code",
   "execution_count": 112,
   "metadata": {},
   "outputs": [
    {
     "name": "stdout",
     "output_type": "stream",
     "text": [
      "1190\n"
     ]
    }
   ],
   "source": [
    "kilometers = int(input('Enter kilometers covered:'))\n",
    "bill = 0\n",
    "\n",
    "if kilometers >0:\n",
    "    if kilometers <= 10:\n",
    "        bill = 11 * kilometers\n",
    "    elif kilometers <=100:\n",
    "        bill = (kilometers-10)*10 + 110\n",
    "    else:\n",
    "        bill = (kilometers - 100)*9 + 1010\n",
    "print(bill)"
   ]
  },
  {
   "cell_type": "code",
   "execution_count": 113,
   "metadata": {},
   "outputs": [
    {
     "name": "stdout",
     "output_type": "stream",
     "text": [
      "Humanities\n"
     ]
    }
   ],
   "source": [
    "english_mark = int(input('Enter mark for English'))\n",
    "math_mark = int(input('Enter mark for Math'))\n",
    "science_mark = int(input('Enter mark for Science'))\n",
    "socialstudies_mark = int(input('Enter mark for Social Studies'))\n",
    "\n",
    "if english_mark > 80 and math_mark > 80 and science_mark > 80 and socialstudies_mark > 80:\n",
    "    print('Science Stream')\n",
    "elif english_mark > 80 and math_mark > 50 and science_mark > 50:\n",
    "    print('Commerce Stream')\n",
    "elif english_mark > 80 and socialstudies_mark > 50:\n",
    "    print('Humanities')"
   ]
  },
  {
   "cell_type": "code",
   "execution_count": null,
   "metadata": {},
   "outputs": [
    {
     "name": "stdout",
     "output_type": "stream",
     "text": [
      "True\n",
      "True\n",
      "False\n",
      "False\n",
      "False\n",
      "False\n",
      "True\n",
      "True\n",
      "True\n",
      "True\n",
      "True\n",
      "True\n",
      "True\n",
      "True\n",
      "True\n",
      "True\n",
      "True\n",
      "True\n",
      "False\n",
      "True\n",
      "False\n",
      "False\n",
      "False\n",
      "False\n",
      "True\n"
     ]
    }
   ],
   "source": [
    "a = True\n",
    "b = True\n",
    "c = True\n",
    "d = True\n",
    "\n",
    "print(c)\n",
    "print(d)\n",
    "print(not a)\n",
    "print(not b)\n",
    "print(not c)\n",
    "print(not d)\n",
    "print(a and b)\n",
    "print(a or b)\n",
    "print(a and c)\n",
    "print(a or c)\n",
    "print(a and d)\n",
    "print(a or d)\n",
    "print(b and c)\n",
    "print(b or c)\n",
    "print(a and b or c)\n",
    "print(a or b and c)\n",
    "print(a and b and c)\n",
    "print(a or b or c)\n",
    "print(not a and b and c)\n",
    "print(not a or b or c)\n",
    "print(not (a and b and c))\n",
    "print(not (a or b or c))\n",
    "print(not a and not b and not c)\n",
    "print(not a or not b or not c)\n",
    "print(not (not a or not b or not c))"
   ]
  }
 ],
 "metadata": {
  "kernelspec": {
   "display_name": "Python 3",
   "language": "python",
   "name": "python3"
  },
  "language_info": {
   "codemirror_mode": {
    "name": "ipython",
    "version": 3
   },
   "file_extension": ".py",
   "mimetype": "text/x-python",
   "name": "python",
   "nbconvert_exporter": "python",
   "pygments_lexer": "ipython3",
   "version": "3.12.7"
  }
 },
 "nbformat": 4,
 "nbformat_minor": 2
}
