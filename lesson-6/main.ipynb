{
 "cells": [
  {
   "cell_type": "markdown",
   "metadata": {},
   "source": [
    "Loops"
   ]
  },
  {
   "cell_type": "code",
   "execution_count": 12,
   "metadata": {},
   "outputs": [
    {
     "name": "stdout",
     "output_type": "stream",
     "text": [
      "1\n",
      "2\n",
      "3\n",
      "4\n",
      "5\n",
      "6\n"
     ]
    }
   ],
   "source": [
    "# iterable\n",
    "\n",
    "# i, j, k\n",
    "\n",
    "for i in [1,2,3,4,5,6]:\n",
    "    print(i)\n",
    "    "
   ]
  },
  {
   "cell_type": "code",
   "execution_count": 13,
   "metadata": {},
   "outputs": [
    {
     "name": "stdout",
     "output_type": "stream",
     "text": [
      "1 2 3 4 5 6 1#2#3#4#5#6#"
     ]
    }
   ],
   "source": [
    "for i in [1,2,3,4,5,6]:\n",
    "    print(i, end= ' ')\n",
    "    \n",
    "for i in [1,2,3,4,5,6]:\n",
    "    print(i, end= '#')\n",
    "# end - def value \\n"
   ]
  },
  {
   "cell_type": "code",
   "execution_count": 11,
   "metadata": {},
   "outputs": [
    {
     "name": "stdout",
     "output_type": "stream",
     "text": [
      "hello\n",
      "hello\n",
      "hello\n",
      "hello\n",
      "hello\n",
      "hello\n"
     ]
    }
   ],
   "source": [
    "for i in [1,2,3,4,5,6]:\n",
    "    print('hello')"
   ]
  },
  {
   "cell_type": "code",
   "execution_count": 9,
   "metadata": {},
   "outputs": [
    {
     "name": "stdout",
     "output_type": "stream",
     "text": [
      "hello\n"
     ]
    }
   ],
   "source": [
    "print('hello')"
   ]
  },
  {
   "cell_type": "code",
   "execution_count": 15,
   "metadata": {},
   "outputs": [
    {
     "name": "stdout",
     "output_type": "stream",
     "text": [
      "1\n",
      "4\n",
      "9\n",
      "16\n",
      "25\n",
      "36\n"
     ]
    }
   ],
   "source": [
    "for i in [1,2,3,4,5,6]:\n",
    "    print(i**2)"
   ]
  },
  {
   "cell_type": "code",
   "execution_count": 18,
   "metadata": {},
   "outputs": [
    {
     "name": "stdout",
     "output_type": "stream",
     "text": [
      "Uzbekistan"
     ]
    }
   ],
   "source": [
    "for j in 'Uzbekistan':\n",
    "    print(j, end='')"
   ]
  },
  {
   "cell_type": "code",
   "execution_count": 20,
   "metadata": {},
   "outputs": [
    {
     "name": "stdout",
     "output_type": "stream",
     "text": [
      "id\n",
      "name\n"
     ]
    }
   ],
   "source": [
    "for k in {'id': 1, 'name': 'Inobat'}:\n",
    "    print(k)"
   ]
  },
  {
   "cell_type": "code",
   "execution_count": 23,
   "metadata": {},
   "outputs": [
    {
     "data": {
      "text/plain": [
       "dict_items([('id', 1), ('name', 'Inobat')])"
      ]
     },
     "execution_count": 23,
     "metadata": {},
     "output_type": "execute_result"
    }
   ],
   "source": [
    "d = {'id': 1, 'name': 'Inobat'}\n",
    "d.items()"
   ]
  },
  {
   "cell_type": "code",
   "execution_count": 24,
   "metadata": {},
   "outputs": [
    {
     "name": "stdout",
     "output_type": "stream",
     "text": [
      "i d\n"
     ]
    },
    {
     "ename": "ValueError",
     "evalue": "too many values to unpack (expected 2)",
     "output_type": "error",
     "traceback": [
      "\u001b[1;31m---------------------------------------------------------------------------\u001b[0m",
      "\u001b[1;31mValueError\u001b[0m                                Traceback (most recent call last)",
      "Cell \u001b[1;32mIn[24], line 1\u001b[0m\n\u001b[1;32m----> 1\u001b[0m \u001b[38;5;28;01mfor\u001b[39;00m key, value \u001b[38;5;129;01min\u001b[39;00m {\u001b[38;5;124m'\u001b[39m\u001b[38;5;124mid\u001b[39m\u001b[38;5;124m'\u001b[39m: \u001b[38;5;241m1\u001b[39m, \u001b[38;5;124m'\u001b[39m\u001b[38;5;124mname\u001b[39m\u001b[38;5;124m'\u001b[39m: \u001b[38;5;124m'\u001b[39m\u001b[38;5;124mInobat\u001b[39m\u001b[38;5;124m'\u001b[39m}:\n\u001b[0;32m      2\u001b[0m     \u001b[38;5;28mprint\u001b[39m(key, value)\n",
      "\u001b[1;31mValueError\u001b[0m: too many values to unpack (expected 2)"
     ]
    }
   ],
   "source": [
    "for key, value in {'id': 1, 'name': 'Inobat'}:\n",
    "    print(key, value)"
   ]
  },
  {
   "cell_type": "code",
   "execution_count": 27,
   "metadata": {},
   "outputs": [
    {
     "name": "stdout",
     "output_type": "stream",
     "text": [
      "id 1\n",
      "name Inobat\n"
     ]
    }
   ],
   "source": [
    "for key, value in {'id': 1, 'name': 'Inobat'}.items():\n",
    "    print(key, value)"
   ]
  },
  {
   "cell_type": "code",
   "execution_count": 29,
   "metadata": {},
   "outputs": [
    {
     "name": "stdout",
     "output_type": "stream",
     "text": [
      "range(0, 10)\n"
     ]
    }
   ],
   "source": [
    "# range() ---- identity(1,1)\n",
    "\n",
    "\n",
    "a = range(10)\n",
    "\n",
    "print(a)"
   ]
  },
  {
   "cell_type": "code",
   "execution_count": 31,
   "metadata": {},
   "outputs": [
    {
     "name": "stdout",
     "output_type": "stream",
     "text": [
      "0\n",
      "1\n",
      "2\n",
      "3\n",
      "4\n",
      "5\n",
      "6\n",
      "7\n",
      "8\n",
      "9\n"
     ]
    }
   ],
   "source": [
    "for i in a:\n",
    "    print(i)"
   ]
  },
  {
   "cell_type": "code",
   "execution_count": 33,
   "metadata": {},
   "outputs": [
    {
     "name": "stdout",
     "output_type": "stream",
     "text": [
      "Uzb\n",
      "Uzb\n",
      "Uzb\n",
      "Uzb\n",
      "Uzb\n",
      "Uzb\n",
      "Uzb\n",
      "Uzb\n",
      "Uzb\n",
      "Uzb\n",
      "Uzb\n",
      "Uzb\n",
      "Uzb\n",
      "Uzb\n",
      "Uzb\n",
      "Uzb\n",
      "Uzb\n",
      "Uzb\n",
      "Uzb\n",
      "Uzb\n",
      "Uzb\n",
      "Uzb\n",
      "Uzb\n",
      "Uzb\n",
      "Uzb\n",
      "Uzb\n",
      "Uzb\n",
      "Uzb\n",
      "Uzb\n",
      "Uzb\n",
      "Uzb\n",
      "Uzb\n",
      "Uzb\n",
      "Uzb\n",
      "Uzb\n",
      "Uzb\n",
      "Uzb\n",
      "Uzb\n",
      "Uzb\n",
      "Uzb\n",
      "Uzb\n",
      "Uzb\n",
      "Uzb\n",
      "Uzb\n",
      "Uzb\n",
      "Uzb\n",
      "Uzb\n",
      "Uzb\n",
      "Uzb\n",
      "Uzb\n"
     ]
    }
   ],
   "source": [
    "for i in range(50):\n",
    "    print('Uzb')"
   ]
  },
  {
   "cell_type": "code",
   "execution_count": 35,
   "metadata": {},
   "outputs": [
    {
     "name": "stdout",
     "output_type": "stream",
     "text": [
      "0-a\n",
      "1-b\n",
      "2-c\n",
      "3-d\n"
     ]
    }
   ],
   "source": [
    "# enumerate -- \n",
    "\n",
    "l = ['a', 'b', 'c', 'd']\n",
    "\n",
    "for ind, val in enumerate(l):\n",
    "    print(f'{ind}-{val}')"
   ]
  },
  {
   "cell_type": "code",
   "execution_count": 37,
   "metadata": {},
   "outputs": [
    {
     "name": "stdout",
     "output_type": "stream",
     "text": [
      "0\n",
      "2\n",
      "4\n",
      "6\n",
      "8\n",
      "10\n",
      "12\n",
      "14\n",
      "16\n",
      "18\n",
      "20\n",
      "22\n",
      "24\n",
      "26\n",
      "28\n",
      "30\n",
      "32\n",
      "34\n",
      "36\n",
      "38\n",
      "40\n",
      "42\n",
      "44\n",
      "46\n",
      "48\n",
      "50\n",
      "52\n",
      "54\n",
      "56\n",
      "58\n",
      "60\n",
      "62\n",
      "64\n",
      "66\n",
      "68\n",
      "70\n",
      "72\n",
      "74\n",
      "76\n",
      "78\n",
      "80\n",
      "82\n",
      "84\n",
      "86\n",
      "88\n",
      "90\n",
      "92\n",
      "94\n",
      "96\n",
      "98\n",
      "100\n"
     ]
    }
   ],
   "source": [
    "for i in range(101):\n",
    "    if i%2 == 0:\n",
    "        print(i)"
   ]
  },
  {
   "cell_type": "code",
   "execution_count": 39,
   "metadata": {},
   "outputs": [
    {
     "name": "stdout",
     "output_type": "stream",
     "text": [
      "1\n",
      "3\n",
      "5\n",
      "7\n",
      "9\n",
      "11\n",
      "13\n",
      "15\n",
      "17\n",
      "19\n",
      "21\n",
      "23\n",
      "25\n",
      "27\n",
      "29\n",
      "31\n",
      "33\n",
      "35\n",
      "37\n",
      "39\n",
      "41\n",
      "43\n",
      "45\n",
      "47\n",
      "49\n",
      "51\n",
      "53\n",
      "55\n",
      "57\n",
      "59\n",
      "61\n",
      "63\n",
      "65\n",
      "67\n",
      "69\n",
      "71\n",
      "73\n",
      "75\n",
      "77\n",
      "79\n",
      "81\n",
      "83\n",
      "85\n",
      "87\n",
      "89\n",
      "91\n",
      "93\n",
      "95\n",
      "97\n",
      "99\n"
     ]
    }
   ],
   "source": [
    "for i in range(101):\n",
    "    if i%2 == 1:\n",
    "        print(i)"
   ]
  },
  {
   "cell_type": "code",
   "execution_count": 46,
   "metadata": {},
   "outputs": [
    {
     "data": {
      "text/plain": [
       "[('A', 0), ('B', 1), ('C', 3), ('A', 5), ('C', 8)]"
      ]
     },
     "execution_count": 46,
     "metadata": {},
     "output_type": "execute_result"
    }
   ],
   "source": [
    "d = [('A', 0), ('B', 1), ('C',3), ('A', 5), ('C',8)]\n",
    "d"
   ]
  },
  {
   "cell_type": "code",
   "execution_count": 48,
   "metadata": {},
   "outputs": [
    {
     "data": {
      "text/plain": [
       "{'A': 5, 'B': 1, 'C': 11}"
      ]
     },
     "execution_count": 48,
     "metadata": {},
     "output_type": "execute_result"
    }
   ],
   "source": [
    "result = {}\n",
    "\n",
    "for key, val in d:\n",
    "    if key not in result.keys():\n",
    "        result[key] = val\n",
    "    else:\n",
    "        result[key] = result[key] + val\n",
    "\n",
    "result"
   ]
  },
  {
   "cell_type": "code",
   "execution_count": 53,
   "metadata": {},
   "outputs": [
    {
     "name": "stdout",
     "output_type": "stream",
     "text": [
      "Inobat - 80\n",
      "Samandar - 100\n",
      "Zuhra - 120\n",
      "Nodir - 60\n"
     ]
    }
   ],
   "source": [
    "# zip\n",
    "\n",
    "students = ['Inobat', 'Samandar', 'Zuhra', 'Nodir']\n",
    " \n",
    "scores = [80, 100, 120, 60]\n",
    "\n",
    "for student, score in zip(students, scores):\n",
    "    print(f'{student} - {score}')"
   ]
  },
  {
   "cell_type": "code",
   "execution_count": 61,
   "metadata": {},
   "outputs": [
    {
     "name": "stdout",
     "output_type": "stream",
     "text": [
      "a1\n",
      "a2\n",
      "a3\n",
      "a4\n",
      "a5\n",
      "a6\n",
      "a7\n",
      "a8\n",
      "a9\n",
      "a10\n",
      "b1\n",
      "b2\n",
      "b3\n",
      "b4\n",
      "b5\n",
      "b6\n",
      "b7\n",
      "b8\n",
      "b9\n",
      "b10\n",
      "c1\n",
      "c2\n",
      "c3\n",
      "c4\n",
      "c5\n",
      "c6\n",
      "c7\n",
      "c8\n",
      "c9\n",
      "c10\n",
      "d1\n",
      "d2\n",
      "d3\n",
      "d4\n",
      "d5\n",
      "d6\n",
      "d7\n",
      "d8\n",
      "d9\n",
      "d10\n",
      "e1\n",
      "e2\n",
      "e3\n",
      "e4\n",
      "e5\n",
      "e6\n",
      "e7\n",
      "e8\n",
      "e9\n",
      "e10\n",
      "f1\n",
      "f2\n",
      "f3\n",
      "f4\n",
      "f5\n",
      "f6\n",
      "f7\n",
      "f8\n",
      "f9\n",
      "f10\n",
      "g1\n",
      "g2\n",
      "g3\n",
      "g4\n",
      "g5\n",
      "g6\n",
      "g7\n",
      "g8\n",
      "g9\n",
      "g10\n",
      "h1\n",
      "h2\n",
      "h3\n",
      "h4\n",
      "h5\n",
      "h6\n",
      "h7\n",
      "h8\n",
      "h9\n",
      "h10\n",
      "i1\n",
      "i2\n",
      "i3\n",
      "i4\n",
      "i5\n",
      "i6\n",
      "i7\n",
      "i8\n",
      "i9\n",
      "i10\n",
      "j1\n",
      "j2\n",
      "j3\n",
      "j4\n",
      "j5\n",
      "j6\n",
      "j7\n",
      "j8\n",
      "j9\n",
      "j10\n",
      "k1\n",
      "k2\n",
      "k3\n",
      "k4\n",
      "k5\n",
      "k6\n",
      "k7\n",
      "k8\n",
      "k9\n",
      "k10\n"
     ]
    }
   ],
   "source": [
    "alphabet = 'abcdefghijk'\n",
    "\n",
    "for letter in alphabet:\n",
    "    for number in range(1,11,1):\n",
    "        print(letter + str(number))"
   ]
  },
  {
   "cell_type": "code",
   "execution_count": 63,
   "metadata": {},
   "outputs": [
    {
     "name": "stdout",
     "output_type": "stream",
     "text": [
      "a\n",
      "aa\n",
      "aaa\n",
      "aaaa\n",
      "aaaaa\n",
      "aaaaaa\n",
      "aaaaaaa\n",
      "aaaaaaaa\n",
      "aaaaaaaaa\n",
      "aaaaaaaaaa\n",
      "b\n",
      "bb\n",
      "bbb\n",
      "bbbb\n",
      "bbbbb\n",
      "bbbbbb\n",
      "bbbbbbb\n",
      "bbbbbbbb\n",
      "bbbbbbbbb\n",
      "bbbbbbbbbb\n",
      "c\n",
      "cc\n",
      "ccc\n",
      "cccc\n",
      "ccccc\n",
      "cccccc\n",
      "ccccccc\n",
      "cccccccc\n",
      "ccccccccc\n",
      "cccccccccc\n",
      "d\n",
      "dd\n",
      "ddd\n",
      "dddd\n",
      "ddddd\n",
      "dddddd\n",
      "ddddddd\n",
      "dddddddd\n",
      "ddddddddd\n",
      "dddddddddd\n",
      "e\n",
      "ee\n",
      "eee\n",
      "eeee\n",
      "eeeee\n",
      "eeeeee\n",
      "eeeeeee\n",
      "eeeeeeee\n",
      "eeeeeeeee\n",
      "eeeeeeeeee\n",
      "f\n",
      "ff\n",
      "fff\n",
      "ffff\n",
      "fffff\n",
      "ffffff\n",
      "fffffff\n",
      "ffffffff\n",
      "fffffffff\n",
      "ffffffffff\n",
      "g\n",
      "gg\n",
      "ggg\n",
      "gggg\n",
      "ggggg\n",
      "gggggg\n",
      "ggggggg\n",
      "gggggggg\n",
      "ggggggggg\n",
      "gggggggggg\n",
      "h\n",
      "hh\n",
      "hhh\n",
      "hhhh\n",
      "hhhhh\n",
      "hhhhhh\n",
      "hhhhhhh\n",
      "hhhhhhhh\n",
      "hhhhhhhhh\n",
      "hhhhhhhhhh\n",
      "i\n",
      "ii\n",
      "iii\n",
      "iiii\n",
      "iiiii\n",
      "iiiiii\n",
      "iiiiiii\n",
      "iiiiiiii\n",
      "iiiiiiiii\n",
      "iiiiiiiiii\n",
      "j\n",
      "jj\n",
      "jjj\n",
      "jjjj\n",
      "jjjjj\n",
      "jjjjjj\n",
      "jjjjjjj\n",
      "jjjjjjjj\n",
      "jjjjjjjjj\n",
      "jjjjjjjjjj\n",
      "k\n",
      "kk\n",
      "kkk\n",
      "kkkk\n",
      "kkkkk\n",
      "kkkkkk\n",
      "kkkkkkk\n",
      "kkkkkkkk\n",
      "kkkkkkkkk\n",
      "kkkkkkkkkk\n"
     ]
    }
   ],
   "source": [
    "alphabet = 'abcdefghijk'\n",
    "\n",
    "for letter in alphabet:\n",
    "    for number in range(1,11,1):\n",
    "        print(letter * number)"
   ]
  },
  {
   "cell_type": "code",
   "execution_count": 65,
   "metadata": {},
   "outputs": [
    {
     "name": "stdout",
     "output_type": "stream",
     "text": [
      "1\n",
      "2\n",
      "3\n",
      "4\n",
      "5\n",
      "6\n",
      "7\n",
      "8\n",
      "9\n",
      "10\n",
      "11\n",
      "12\n",
      "13\n",
      "14\n",
      "15\n",
      "16\n",
      "17\n",
      "18\n",
      "19\n",
      "20\n",
      "21\n",
      "22\n",
      "23\n",
      "24\n",
      "25\n",
      "26\n",
      "27\n",
      "28\n",
      "29\n",
      "30\n",
      "31\n",
      "32\n",
      "33\n",
      "34\n",
      "35\n",
      "36\n",
      "37\n",
      "38\n",
      "39\n",
      "40\n",
      "41\n",
      "42\n",
      "43\n",
      "44\n",
      "45\n",
      "46\n",
      "47\n",
      "48\n",
      "49\n",
      "50\n",
      "51\n",
      "52\n",
      "53\n",
      "54\n",
      "55\n",
      "56\n",
      "57\n",
      "58\n",
      "59\n",
      "60\n",
      "61\n",
      "62\n",
      "63\n",
      "64\n",
      "65\n",
      "66\n",
      "67\n",
      "68\n",
      "69\n",
      "70\n",
      "71\n",
      "72\n",
      "73\n",
      "74\n",
      "75\n",
      "76\n",
      "77\n",
      "78\n",
      "79\n",
      "80\n",
      "81\n",
      "82\n",
      "83\n",
      "84\n",
      "85\n",
      "86\n",
      "87\n",
      "88\n",
      "89\n",
      "90\n",
      "91\n",
      "92\n",
      "93\n",
      "94\n",
      "95\n",
      "96\n",
      "97\n",
      "98\n",
      "99\n",
      "100\n"
     ]
    }
   ],
   "source": [
    "# works until the condition is false\n",
    "\n",
    "\n",
    "a = 1\n",
    "\n",
    "while a<=100:\n",
    "    print(a)\n",
    "    a+=1"
   ]
  },
  {
   "cell_type": "code",
   "execution_count": null,
   "metadata": {},
   "outputs": [],
   "source": [
    "# break -- stops\n",
    "# continue - omits that step\n",
    "\n"
   ]
  },
  {
   "cell_type": "code",
   "execution_count": 72,
   "metadata": {},
   "outputs": [
    {
     "name": "stdout",
     "output_type": "stream",
     "text": [
      "Not prime\n"
     ]
    }
   ],
   "source": [
    "# prime num - tub son\n",
    "# perfect num - bolinuvchilari yigindisi oziga teng\n",
    "\n",
    "number = int(input('enter number:'))\n",
    "\n",
    "inc = 2\n",
    "\n",
    "for i in range(inc, number):\n",
    "    if number % i == 0:\n",
    "        print('Not prime')\n",
    "        break\n",
    "    else:\n",
    "        pass\n",
    "else:\n",
    "    print('Prime')"
   ]
  },
  {
   "cell_type": "code",
   "execution_count": 74,
   "metadata": {},
   "outputs": [
    {
     "name": "stdout",
     "output_type": "stream",
     "text": [
      "Nodir\n",
      "Samandar\n"
     ]
    }
   ],
   "source": [
    "students = ['Zuhra', 'Nodir', 'Samandar', 'Mukhlisa']\n",
    "\n",
    "for i in students:\n",
    "    if i.endswith('a'):\n",
    "        continue\n",
    "    print(i)\n",
    "    "
   ]
  }
 ],
 "metadata": {
  "kernelspec": {
   "display_name": "Python 3",
   "language": "python",
   "name": "python3"
  },
  "language_info": {
   "codemirror_mode": {
    "name": "ipython",
    "version": 3
   },
   "file_extension": ".py",
   "mimetype": "text/x-python",
   "name": "python",
   "nbconvert_exporter": "python",
   "pygments_lexer": "ipython3",
   "version": "3.12.7"
  }
 },
 "nbformat": 4,
 "nbformat_minor": 2
}
