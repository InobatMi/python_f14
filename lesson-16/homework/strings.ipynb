{
 "cells": [
  {
   "cell_type": "code",
   "execution_count": 12,
   "metadata": {},
   "outputs": [
    {
     "name": "stdout",
     "output_type": "stream",
     "text": [
      "[  1   4   9  16  25  36  49  64  81 100]\n",
      "385\n",
      "38.5\n",
      "32.41990129534635\n"
     ]
    }
   ],
   "source": [
    "import numpy as np\n",
    "\n",
    "## 2. \n",
    "    # - Create a NumPy array of integers from 1 to 10 (inclusive).\n",
    "arr = np.arange(1, 11)\n",
    "    # - Calculate the square of each element in the array.\n",
    "squated_arr = arr **2\n",
    "print(squated_arr)\n",
    "    # - Find the sum, mean, and standard deviation of the squared array.\n",
    "print(squated_arr.sum())\n",
    "print(squated_arr.mean())\n",
    "print(squated_arr.std())\n",
    "\n"
   ]
  },
  {
   "cell_type": "code",
   "execution_count": 77,
   "metadata": {},
   "outputs": [
    {
     "name": "stdout",
     "output_type": "stream",
     "text": [
      "[([ 76, -70], [138, 165, 152]) ([-92,  83], [210, 127,  74])\n",
      " ([-10, -85], [ 80,  36,  59])]\n"
     ]
    }
   ],
   "source": [
    "# Create a structured array representing a position (x,y) and a color (r,g,b)\n",
    "\n",
    "dtype = np.dtype([\n",
    "    ('position', np.int32, (2,)),  # position with (x, y)\n",
    "    ('color', np.uint8, (3,))  # color with (r,g,b)\n",
    "])\n",
    "\n",
    "# tructured array with 3 elements\n",
    "data = np.zeros(3, dtype=dtype)\n",
    "data['position'] = np.random.randint(-100, 101, (3,2))\n",
    "data['color'] = np.random.randint(0, 256, (3,3),dtype=np.uint8)\n",
    "\n",
    "print(data)"
   ]
  },
  {
   "cell_type": "code",
   "execution_count": null,
   "metadata": {},
   "outputs": [],
   "source": [
    "#### 52. Consider a random vector with shape (100,2) representing coordinates, find point by point distances (★★☆)\n",
    "\n",
    "from scipy.spatial.distance import cdist\n",
    "\n"
   ]
  }
 ],
 "metadata": {
  "kernelspec": {
   "display_name": "Python 3",
   "language": "python",
   "name": "python3"
  },
  "language_info": {
   "codemirror_mode": {
    "name": "ipython",
    "version": 3
   },
   "file_extension": ".py",
   "mimetype": "text/x-python",
   "name": "python",
   "nbconvert_exporter": "python",
   "pygments_lexer": "ipython3",
   "version": "3.12.7"
  }
 },
 "nbformat": 4,
 "nbformat_minor": 2
}
