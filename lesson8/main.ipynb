{
 "cells": [
  {
   "cell_type": "code",
   "execution_count": 7,
   "metadata": {},
   "outputs": [],
   "source": [
    "path ='C:\\\\Users\\\\Inobat\\\\Desktop\\\\python\\\\text.txt'\n",
    "\n",
    "with open(path, 'w') as f:\n",
    "    f.write('Currently I am studying in F14 group')"
   ]
  },
  {
   "cell_type": "code",
   "execution_count": 8,
   "metadata": {},
   "outputs": [
    {
     "name": "stdout",
     "output_type": "stream",
     "text": [
      "['ID,Name,Age\\n', '1,Husan,24\\n', '2,Nodir,23\\n', '3,Murod,26']\n"
     ]
    }
   ],
   "source": [
    "with open ('example.csv') as f:\n",
    "    data = f.readlines()\n",
    "    print(data)"
   ]
  }
 ],
 "metadata": {
  "kernelspec": {
   "display_name": "Python 3",
   "language": "python",
   "name": "python3"
  },
  "language_info": {
   "codemirror_mode": {
    "name": "ipython",
    "version": 3
   },
   "file_extension": ".py",
   "mimetype": "text/x-python",
   "name": "python",
   "nbconvert_exporter": "python",
   "pygments_lexer": "ipython3",
   "version": "3.12.7"
  }
 },
 "nbformat": 4,
 "nbformat_minor": 2
}
