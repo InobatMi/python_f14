{
 "cells": [
  {
   "cell_type": "code",
   "execution_count": null,
   "metadata": {},
   "outputs": [
    {
     "data": {
      "text/plain": [
       "'Hello'"
      ]
     },
     "execution_count": 3,
     "metadata": {},
     "output_type": "execute_result"
    }
   ],
   "source": [
    "# 1\n",
    "text: str = 'hELlo'\n",
    "text.capitalize()"
   ]
  },
  {
   "cell_type": "code",
   "execution_count": null,
   "metadata": {},
   "outputs": [
    {
     "data": {
      "text/plain": [
       "'hello'"
      ]
     },
     "execution_count": 5,
     "metadata": {},
     "output_type": "execute_result"
    }
   ],
   "source": [
    "# 2\n",
    "text.casefold()"
   ]
  },
  {
   "cell_type": "code",
   "execution_count": null,
   "metadata": {},
   "outputs": [
    {
     "data": {
      "text/plain": [
       "'.......hELlo........'"
      ]
     },
     "execution_count": 8,
     "metadata": {},
     "output_type": "execute_result"
    }
   ],
   "source": [
    "# 3\n",
    "text.center(20, '.')"
   ]
  },
  {
   "cell_type": "code",
   "execution_count": null,
   "metadata": {},
   "outputs": [
    {
     "data": {
      "text/plain": [
       "4"
      ]
     },
     "execution_count": 10,
     "metadata": {},
     "output_type": "execute_result"
    }
   ],
   "source": [
    "# 4\n",
    "text: str = 'abc_abc_abc_abc'\n",
    "text.count('ab')"
   ]
  },
  {
   "cell_type": "code",
   "execution_count": 40,
   "metadata": {},
   "outputs": [
    {
     "data": {
      "text/plain": [
       "b'Elon Musk'"
      ]
     },
     "execution_count": 40,
     "metadata": {},
     "output_type": "execute_result"
    }
   ],
   "source": [
    "# 5\n",
    "text: str = 'Elon Musk'\n",
    "text.encode(encoding='UTF-8',  errors='strict')"
   ]
  },
  {
   "cell_type": "code",
   "execution_count": 41,
   "metadata": {},
   "outputs": [
    {
     "name": "stdout",
     "output_type": "stream",
     "text": [
      "True\n",
      "False\n"
     ]
    }
   ],
   "source": [
    "print(text.endswith(('e', 'k')))\n",
    "print(text.endswith('e'))"
   ]
  },
  {
   "cell_type": "code",
   "execution_count": 26,
   "metadata": {},
   "outputs": [
    {
     "data": {
      "text/plain": [
       "'text                text2               text3'"
      ]
     },
     "execution_count": 26,
     "metadata": {},
     "output_type": "execute_result"
    }
   ],
   "source": [
    "text = 'text\\ttext2\\ttext3'\n",
    "text.expandtabs(20)"
   ]
  },
  {
   "cell_type": "code",
   "execution_count": 29,
   "metadata": {},
   "outputs": [
    {
     "name": "stdout",
     "output_type": "stream",
     "text": [
      "24\n",
      "subscribe!\n",
      "-1\n",
      "!\n"
     ]
    }
   ],
   "source": [
    "text = 'Remember to comment and subscribe!'\n",
    "\n",
    "position = text.find('subscribe')\n",
    "\n",
    "print(position)\n",
    "print(text[position:])\n",
    "\n",
    "\n",
    "position = text.find('ahahssh')\n",
    "print(position)\n",
    "print(text[position:])"
   ]
  },
  {
   "cell_type": "code",
   "execution_count": 31,
   "metadata": {},
   "outputs": [
    {
     "name": "stdout",
     "output_type": "stream",
     "text": [
      "Cat is doing: meow.\n",
      "Cat is doing: meow.\n"
     ]
    }
   ],
   "source": [
    "text = '{subject} is doing: {action}.'\n",
    "print(text.format(subject = 'Cat', action = 'meow'))\n",
    "\n",
    "text = '{} is doing: {}.' #alternative\n",
    "print(text.format('Cat','meow'))\n"
   ]
  },
  {
   "cell_type": "code",
   "execution_count": 33,
   "metadata": {},
   "outputs": [
    {
     "data": {
      "text/plain": [
       "'Coordinates: (10, -5)'"
      ]
     },
     "execution_count": 33,
     "metadata": {},
     "output_type": "execute_result"
    }
   ],
   "source": [
    "coordinates = {'x': 10, 'y': -5}\n",
    "text = 'Coordinates: ({x}, {y})'\n",
    "\n",
    "text.format_map(coordinates)"
   ]
  },
  {
   "cell_type": "code",
   "execution_count": 36,
   "metadata": {},
   "outputs": [
    {
     "name": "stdout",
     "output_type": "stream",
     "text": [
      "23\n",
      "banana on the moon\n"
     ]
    },
    {
     "ename": "ValueError",
     "evalue": "substring not found",
     "output_type": "error",
     "traceback": [
      "\u001b[1;31m---------------------------------------------------------------------------\u001b[0m",
      "\u001b[1;31mValueError\u001b[0m                                Traceback (most recent call last)",
      "Cell \u001b[1;32mIn[36], line 11\u001b[0m\n\u001b[0;32m      5\u001b[0m \u001b[38;5;28mprint\u001b[39m(text[position:])\n\u001b[0;32m      7\u001b[0m \u001b[38;5;66;03m# similar to find but index() gives ValueError \u001b[39;00m\n\u001b[0;32m      8\u001b[0m \u001b[38;5;66;03m# when it cannot find\u001b[39;00m\n\u001b[1;32m---> 11\u001b[0m position \u001b[38;5;241m=\u001b[39m \u001b[43mtext\u001b[49m\u001b[38;5;241;43m.\u001b[39;49m\u001b[43mindex\u001b[49m\u001b[43m(\u001b[49m\u001b[38;5;124;43m'\u001b[39;49m\u001b[38;5;124;43mahaha\u001b[39;49m\u001b[38;5;124;43m'\u001b[39;49m\u001b[43m)\u001b[49m\n\u001b[0;32m     13\u001b[0m \u001b[38;5;28mprint\u001b[39m(position)\n\u001b[0;32m     14\u001b[0m \u001b[38;5;28mprint\u001b[39m(text[position:])\n",
      "\u001b[1;31mValueError\u001b[0m: substring not found"
     ]
    }
   ],
   "source": [
    "text = 'Astronauts recetnflflf banana on the moon'\n",
    "position = text.index('banana')\n",
    "\n",
    "print(position)\n",
    "print(text[position:])\n",
    "\n",
    "# similar to find but index() gives ValueError \n",
    "# when it cannot find\n",
    "\n",
    "\n",
    "position = text.index('ahaha')\n",
    "\n",
    "print(position)\n",
    "print(text[position:])\n"
   ]
  },
  {
   "cell_type": "code",
   "execution_count": 42,
   "metadata": {},
   "outputs": [
    {
     "name": "stdout",
     "output_type": "stream",
     "text": [
      "True\n",
      "False\n"
     ]
    }
   ],
   "source": [
    "text = 'hellokitty123'\n",
    "\n",
    "print(text.isalnum())\n",
    "\n",
    "\n",
    "text = 'hellokitty123!'\n",
    "\n",
    "print(text.isalnum())"
   ]
  },
  {
   "cell_type": "code",
   "execution_count": 45,
   "metadata": {},
   "outputs": [
    {
     "name": "stdout",
     "output_type": "stream",
     "text": [
      "False\n",
      "True\n"
     ]
    }
   ],
   "source": [
    "text = 'hellokitty123'\n",
    "\n",
    "print(text.isalpha())\n",
    "\n",
    "text = 'hellokitty'\n",
    "\n",
    "print(text.isalpha())"
   ]
  },
  {
   "cell_type": "code",
   "execution_count": 47,
   "metadata": {},
   "outputs": [
    {
     "data": {
      "text/plain": [
       "True"
      ]
     },
     "execution_count": 47,
     "metadata": {},
     "output_type": "execute_result"
    }
   ],
   "source": [
    "text.isascii()"
   ]
  },
  {
   "cell_type": "code",
   "execution_count": 51,
   "metadata": {},
   "outputs": [
    {
     "name": "stdout",
     "output_type": "stream",
     "text": [
      "True\n",
      "False\n"
     ]
    }
   ],
   "source": [
    "# 18\n",
    "text = 'test_sample'\n",
    "\n",
    "# checks if variable can be named like that\n",
    "print(text.isidentifier())\n",
    "\n",
    "text = 'test-sample'\n",
    "print(text.isidentifier())"
   ]
  },
  {
   "cell_type": "code",
   "execution_count": 53,
   "metadata": {},
   "outputs": [
    {
     "name": "stdout",
     "output_type": "stream",
     "text": [
      "False\n",
      "True\n"
     ]
    }
   ],
   "source": [
    "text = 'Abc'\n",
    "print(text.islower())\n",
    "\n",
    "\n",
    "text = 'abc'\n",
    "print(text.islower())"
   ]
  },
  {
   "cell_type": "code",
   "execution_count": 56,
   "metadata": {},
   "outputs": [
    {
     "name": "stdout",
     "output_type": "stream",
     "text": [
      "False\n",
      "True\n"
     ]
    }
   ],
   "source": [
    "text = 'text\\n'\n",
    "print(text.isprintable())\n",
    "\n",
    "text = 'text'\n",
    "print(text.isprintable())"
   ]
  },
  {
   "cell_type": "code",
   "execution_count": 59,
   "metadata": {},
   "outputs": [
    {
     "name": "stdout",
     "output_type": "stream",
     "text": [
      "True\n",
      "False\n"
     ]
    }
   ],
   "source": [
    "text = '    '\n",
    "print(text.isspace())\n",
    "\n",
    "text = '       t'\n",
    "print(text.isspace())"
   ]
  },
  {
   "cell_type": "code",
   "execution_count": 61,
   "metadata": {},
   "outputs": [
    {
     "name": "stdout",
     "output_type": "stream",
     "text": [
      "True\n",
      "False\n"
     ]
    }
   ],
   "source": [
    "text = 'The Video'\n",
    "print(text.istitle())\n",
    "\n",
    "text = 'the Video'\n",
    "print(text.istitle())"
   ]
  },
  {
   "cell_type": "code",
   "execution_count": 63,
   "metadata": {},
   "outputs": [
    {
     "name": "stdout",
     "output_type": "stream",
     "text": [
      "True\n",
      "False\n"
     ]
    }
   ],
   "source": [
    "text = 'BANANAS'\n",
    "print(text.isupper())\n",
    "\n",
    "text = 'BAnANAS'\n",
    "print(text.isupper())"
   ]
  },
  {
   "cell_type": "code",
   "execution_count": null,
   "metadata": {},
   "outputs": [
    {
     "name": "stdout",
     "output_type": "stream",
     "text": [
      "text1-text2-text3\n",
      "text1-text2-text3\n"
     ]
    }
   ],
   "source": [
    "text = '-'\n",
    "print(text.join(['text1', 'text2', 'text3']))\n",
    "\n",
    "# alternative\n",
    "\n",
    "print('-'.join(['text1', 'text2', 'text3']))"
   ]
  },
  {
   "cell_type": "code",
   "execution_count": 67,
   "metadata": {},
   "outputs": [
    {
     "data": {
      "text/plain": [
       "'text________________'"
      ]
     },
     "execution_count": 67,
     "metadata": {},
     "output_type": "execute_result"
    }
   ],
   "source": [
    "text = 'text'\n",
    "text.ljust(20, '_')"
   ]
  },
  {
   "cell_type": "code",
   "execution_count": 69,
   "metadata": {},
   "outputs": [
    {
     "data": {
      "text/plain": [
       "'uppercase'"
      ]
     },
     "execution_count": 69,
     "metadata": {},
     "output_type": "execute_result"
    }
   ],
   "source": [
    "text = 'UPPERCASE'\n",
    "text.lower()"
   ]
  },
  {
   "cell_type": "code",
   "execution_count": 70,
   "metadata": {},
   "outputs": [
    {
     "data": {
      "text/plain": [
       "'text.'"
      ]
     },
     "execution_count": 70,
     "metadata": {},
     "output_type": "execute_result"
    }
   ],
   "source": [
    "text = 'Some text.'\n",
    "text.lstrip('Some ')"
   ]
  },
  {
   "cell_type": "code",
   "execution_count": 72,
   "metadata": {},
   "outputs": [
    {
     "name": "stdout",
     "output_type": "stream",
     "text": [
      "{66: 129320}\n",
      "That is 🤨acon 🤨aby\n"
     ]
    }
   ],
   "source": [
    "# 28 & 29\n",
    "text = 'That is Bacon Baby'\n",
    "table = text.maketrans('B', '🤨')\n",
    "\n",
    "print(table)\n",
    "print(text.translate(table))"
   ]
  },
  {
   "cell_type": "code",
   "execution_count": 74,
   "metadata": {},
   "outputs": [
    {
     "data": {
      "text/plain": [
       "('a+b', '=', 'c')"
      ]
     },
     "execution_count": 74,
     "metadata": {},
     "output_type": "execute_result"
    }
   ],
   "source": [
    "text = 'a+b=c'\n",
    "text.partition('=')"
   ]
  },
  {
   "cell_type": "code",
   "execution_count": 76,
   "metadata": {},
   "outputs": [
    {
     "name": "stdout",
     "output_type": "stream",
     "text": [
      "Remember to subscribe!\n",
      "Remember to subscribe, & comment!\n"
     ]
    }
   ],
   "source": [
    "# 32\n",
    "\n",
    "text = 'Remember to comment!'\n",
    "\n",
    "print(text.replace('comment', 'subscribe'))\n",
    "\n",
    "text = 'Remember to comment, & comment!'\n",
    "\n",
    "print(text.replace('comment', 'subscribe', 1))"
   ]
  },
  {
   "cell_type": "code",
   "execution_count": 79,
   "metadata": {},
   "outputs": [
    {
     "name": "stdout",
     "output_type": "stream",
     "text": [
      "['This', 'is', 'some', 'special', 'stuff.']\n",
      "['This is some', 'special', 'stuff.']\n",
      "['This', 'is', 'some special stuff.']\n",
      "['www', 'website', 'com']\n"
     ]
    }
   ],
   "source": [
    "text = 'This is some special stuff.'\n",
    "\n",
    "print(text.rsplit(sep=' '))\n",
    "print(text.rsplit(maxsplit=2))\n",
    "print(text.split(maxsplit=2))\n",
    "\n",
    "\n",
    "text = 'www.website.com'\n",
    "print(text.rsplit(sep='.'))\n"
   ]
  },
  {
   "cell_type": "code",
   "execution_count": 81,
   "metadata": {},
   "outputs": [
    {
     "data": {
      "text/plain": [
       "'His name is Mario '"
      ]
     },
     "execution_count": 81,
     "metadata": {},
     "output_type": "execute_result"
    }
   ],
   "source": [
    "text ='His name is Mario Mario'\n",
    "text.rstrip('Mario')"
   ]
  },
  {
   "cell_type": "code",
   "execution_count": 85,
   "metadata": {},
   "outputs": [
    {
     "name": "stdout",
     "output_type": "stream",
     "text": [
      "['Remember to comment!\\n', 'or else...\\n']\n",
      "['Remember to comment!', 'or else...']\n"
     ]
    }
   ],
   "source": [
    "text = 'Remember to comment!\\nor else...\\n'\n",
    "\n",
    "print(text.splitlines(keepends=True))\n",
    "print(text.splitlines())"
   ]
  },
  {
   "cell_type": "code",
   "execution_count": 87,
   "metadata": {},
   "outputs": [
    {
     "name": "stdout",
     "output_type": "stream",
     "text": [
      "True\n",
      "False\n"
     ]
    }
   ],
   "source": [
    "text = 'Luigi'\n",
    "print(text.startswith('L'))\n",
    "print(text.startswith('U'))\n"
   ]
  },
  {
   "cell_type": "code",
   "execution_count": 93,
   "metadata": {},
   "outputs": [
    {
     "name": "stdout",
     "output_type": "stream",
     "text": [
      " Has pasTa.\n",
      "Luigi Has pasT\n"
     ]
    }
   ],
   "source": [
    "text = 'Luigi Has pasTa.'\n",
    "print(text.strip('Luigi'))\n",
    "print(text.strip('pasta.'))"
   ]
  },
  {
   "cell_type": "code",
   "execution_count": 94,
   "metadata": {},
   "outputs": [
    {
     "data": {
      "text/plain": [
       "'lUIGI hAS PAStA.'"
      ]
     },
     "execution_count": 94,
     "metadata": {},
     "output_type": "execute_result"
    }
   ],
   "source": [
    "text.swapcase()"
   ]
  },
  {
   "cell_type": "code",
   "execution_count": 96,
   "metadata": {},
   "outputs": [
    {
     "data": {
      "text/plain": [
       "'Luigi Has Pasta.'"
      ]
     },
     "execution_count": 96,
     "metadata": {},
     "output_type": "execute_result"
    }
   ],
   "source": [
    "text.title()"
   ]
  },
  {
   "cell_type": "code",
   "execution_count": 98,
   "metadata": {},
   "outputs": [
    {
     "data": {
      "text/plain": [
       "'Luigi Has Pasta.'"
      ]
     },
     "execution_count": 98,
     "metadata": {},
     "output_type": "execute_result"
    }
   ],
   "source": [
    "text.title()"
   ]
  },
  {
   "cell_type": "code",
   "execution_count": 100,
   "metadata": {},
   "outputs": [
    {
     "data": {
      "text/plain": [
       "'LUIGI HAS PASTA.'"
      ]
     },
     "execution_count": 100,
     "metadata": {},
     "output_type": "execute_result"
    }
   ],
   "source": [
    "text.upper()"
   ]
  },
  {
   "cell_type": "code",
   "execution_count": 102,
   "metadata": {},
   "outputs": [
    {
     "data": {
      "text/plain": [
       "'00000000000000000000000000000000000000000000Luigi Has pasTa.'"
      ]
     },
     "execution_count": 102,
     "metadata": {},
     "output_type": "execute_result"
    }
   ],
   "source": [
    "text.zfill(60)"
   ]
  }
 ],
 "metadata": {
  "kernelspec": {
   "display_name": "Python 3",
   "language": "python",
   "name": "python3"
  },
  "language_info": {
   "codemirror_mode": {
    "name": "ipython",
    "version": 3
   },
   "file_extension": ".py",
   "mimetype": "text/x-python",
   "name": "python",
   "nbconvert_exporter": "python",
   "pygments_lexer": "ipython3",
   "version": "3.12.7"
  }
 },
 "nbformat": 4,
 "nbformat_minor": 2
}
