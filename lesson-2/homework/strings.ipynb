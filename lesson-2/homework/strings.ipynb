{
 "cells": [
  {
   "cell_type": "code",
   "execution_count": 14,
   "metadata": {},
   "outputs": [
    {
     "name": "stdout",
     "output_type": "stream",
     "text": [
      "6\n"
     ]
    }
   ],
   "source": [
    "# \t1. Write a Python program to calculate the length of a string\n",
    "\n",
    "text = 'abcdef'\n",
    "print(text.__len__())\n"
   ]
  },
  {
   "cell_type": "code",
   "execution_count": 18,
   "metadata": {},
   "outputs": [
    {
     "name": "stdout",
     "output_type": "stream",
     "text": [
      "here\n"
     ]
    }
   ],
   "source": [
    "# \t2. Write a Python program to get a string made of the first 2 and \n",
    "# last 2 characters of a given string.\n",
    "\n",
    "txt = 'hello there'\n",
    "print(txt[0:2]+txt[-2:])\n"
   ]
  },
  {
   "cell_type": "code",
   "execution_count": 21,
   "metadata": {},
   "outputs": [
    {
     "name": "stdout",
     "output_type": "stream",
     "text": [
      "resta$t$$\n"
     ]
    }
   ],
   "source": [
    "# 3. Write a Python program to get a string from a given string where \n",
    "# all occurrences of its first char have been changed to '$', except the first char itself.\n",
    "# Sample String : 'restart'\n",
    "# Expected Result : 'resta$t'\n",
    "\n",
    "txt = 'restartrr'\n",
    "print(txt[0]+txt[1:].replace(txt[0], '$'))\n"
   ]
  },
  {
   "cell_type": "code",
   "execution_count": 37,
   "metadata": {},
   "outputs": [
    {
     "name": "stdout",
     "output_type": "stream",
     "text": [
      "xyc abz\n"
     ]
    }
   ],
   "source": [
    "# \t4. Write a Python program to get a single string from two given strings, \n",
    "# separated by a space and swap the first two characters of each string.\n",
    "# Sample String : 'abc', 'xyz'\n",
    "# Expected Result : 'xyc abz'\n",
    "\n",
    "str1 = 'abc'\n",
    "str2 = 'xyz'\n",
    "\n",
    "res = ' '.join([str1.replace(str1[:2], str2[:2]), str2.replace(str2[:2], str1[:2])])\n",
    "\n",
    "print(res)"
   ]
  },
  {
   "cell_type": "code",
   "execution_count": 44,
   "metadata": {},
   "outputs": [
    {
     "name": "stdout",
     "output_type": "stream",
     "text": [
      "abcdef\n",
      "acdef\n"
     ]
    }
   ],
   "source": [
    "# \t5. Write a  Python program to remove the n index \n",
    "# ( n should be given by input) character from a nonempty string.\n",
    "\n",
    "print(text)\n",
    "n = int(input('Write a number:'))\n",
    "\n",
    "print(''.join([text[:n-1],text[n:]]))\n"
   ]
  },
  {
   "cell_type": "code",
   "execution_count": 54,
   "metadata": {},
   "outputs": [
    {
     "name": "stdout",
     "output_type": "stream",
     "text": [
      "fbcdea\n"
     ]
    }
   ],
   "source": [
    "# \t6. Write a Python program to change a given string to a newly string \n",
    "# where the first and last chars have been exchanged.\n",
    "\n",
    "\n",
    "print(text[-1]+text[1:-1]+text[0])\n"
   ]
  },
  {
   "cell_type": "code",
   "execution_count": 56,
   "metadata": {},
   "outputs": [
    {
     "data": {
      "text/plain": [
       "3"
      ]
     },
     "execution_count": 56,
     "metadata": {},
     "output_type": "execute_result"
    }
   ],
   "source": [
    "# \t7. Write a Python program to count the occurrences of a given word in a given sentence.\n",
    "# ( word and sentence should be given as a input)\n",
    "\n",
    "sentence = input('Write a sentence')\n",
    "word = input('Write a word to search')\n",
    "sentence.count(word)\n"
   ]
  },
  {
   "cell_type": "code",
   "execution_count": 57,
   "metadata": {},
   "outputs": [
    {
     "name": "stdout",
     "output_type": "stream",
     "text": [
      "HELLO\n",
      "hello\n"
     ]
    }
   ],
   "source": [
    "# \t8. Write a Python  script that takes input from the user and \n",
    "# displays that input back in upper and lower cases.\n",
    "\n",
    "sentence = input('Write a any sentence')\n",
    "print(sentence.upper())\n",
    "print(sentence.lower())\n"
   ]
  },
  {
   "cell_type": "code",
   "execution_count": 61,
   "metadata": {},
   "outputs": [
    {
     "name": "stdout",
     "output_type": "stream",
     "text": [
      "onononon\n"
     ]
    }
   ],
   "source": [
    "# \t9. Write a Python code to get a string made of 4 copies of the last \n",
    "# two characters of a given string (string should be given as input).\n",
    "# Sample input and result :\n",
    "# ('Python') -> onononon\n",
    "# ('Exercises') -> eseseses\n",
    "\n",
    "word = input('Write a any word')\n",
    "print(word[-2:]*4)\n"
   ]
  },
  {
   "cell_type": "code",
   "execution_count": 65,
   "metadata": {},
   "outputs": [
    {
     "name": "stdout",
     "output_type": "stream",
     "text": [
      "abc\n"
     ]
    }
   ],
   "source": [
    "# \t10. Write a Python code to get a string made of the first three characters of a specified string.\n",
    "# ('ipy') -> ipy\n",
    "# ('python') -> pyt\n",
    "\n",
    "print(text[:3])\n"
   ]
  },
  {
   "cell_type": "code",
   "execution_count": 66,
   "metadata": {},
   "outputs": [
    {
     "name": "stdout",
     "output_type": "stream",
     "text": [
      "fedcba\n"
     ]
    }
   ],
   "source": [
    "# \t11. Write a Python code to reverse a string\n",
    "\n",
    "print(text[::-1])\n"
   ]
  },
  {
   "cell_type": "code",
   "execution_count": 68,
   "metadata": {},
   "outputs": [
    {
     "name": "stdout",
     "output_type": "stream",
     "text": [
      "True\n"
     ]
    }
   ],
   "source": [
    "# \t12. Write a Python program to check whether a string starts with specified characters.\n",
    "\n",
    "\n",
    "print(text.startswith('abc'))"
   ]
  }
 ],
 "metadata": {
  "kernelspec": {
   "display_name": "Python 3",
   "language": "python",
   "name": "python3"
  },
  "language_info": {
   "codemirror_mode": {
    "name": "ipython",
    "version": 3
   },
   "file_extension": ".py",
   "mimetype": "text/x-python",
   "name": "python",
   "nbconvert_exporter": "python",
   "pygments_lexer": "ipython3",
   "version": "3.12.7"
  }
 },
 "nbformat": 4,
 "nbformat_minor": 2
}
