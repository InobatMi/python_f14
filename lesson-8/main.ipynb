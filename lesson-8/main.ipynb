{
 "cells": [
  {
   "cell_type": "code",
   "execution_count": 7,
   "metadata": {},
   "outputs": [],
   "source": [
    "path ='C:\\\\Users\\\\Inobat\\\\Desktop\\\\python\\\\text.txt'\n",
    "\n",
    "with open(path, 'w') as f:\n",
    "    f.write('Currently I am studying in F14 group')"
   ]
  },
  {
   "cell_type": "code",
   "execution_count": 8,
   "metadata": {},
   "outputs": [
    {
     "name": "stdout",
     "output_type": "stream",
     "text": [
      "['ID,Name,Age\\n', '1,Husan,24\\n', '2,Nodir,23\\n', '3,Murod,26']\n"
     ]
    }
   ],
   "source": [
    "with open ('example.csv') as f:\n",
    "    data = f.readlines()\n",
    "    print(data)"
   ]
  },
  {
   "cell_type": "code",
   "execution_count": 5,
   "metadata": {},
   "outputs": [
    {
     "name": "stdout",
     "output_type": "stream",
     "text": [
      "Anita ibukun\n",
      "Ann Jidere\n",
      "Anwari tasala\n",
      "Arzu Bayraktar\n",
      "Atinuke Adegun\n",
      "Begum BURAK\n",
      "Brenda Onyejuwa\n",
      "CLARKSON OGHENEVWAKPO\n",
      "Dildora Mingturayeva\n",
      "Faith Anne\n",
      "Geofrey Opio\n",
      "Godwin Chinedu\n",
      "Hossai Ahmadzai\n",
      "Iryna Lutsenko\n",
      "Liubov Puyda\n",
      "Mehrab Hossain\n",
      "Mercy Ademola\n",
      "Mukund prasad Singh\n",
      "Nisha Mishra\n",
      "Njideka Onu\n",
      "Nozigul Gulomjonova\n",
      "onyejuwa brenda\n",
      "Operations Team\n",
      "Piter Dromashkov\n",
      "Sijuwade Adeoba\n",
      "Sixtus Okoro\n",
      "Yaroslava\n"
     ]
    }
   ],
   "source": [
    "names = 'Anita ibukun, Ann Jidere, Anwari tasala, Arzu Bayraktar, Atinuke Adegun, Begum BURAK, Brenda Onyejuwa, CLARKSON OGHENEVWAKPO, Dildora Mingturayeva, Faith Anne, Geofrey Opio, Godwin Chinedu, Hossai Ahmadzai, Iryna Lutsenko, Liubov Puyda, Mehrab Hossain, Mercy Ademola, Mukund prasad Singh, Nisha Mishra, Njideka Onu, Nozigul Gulomjonova, onyejuwa brenda, Operations Team, Piter Dromashkov, Sijuwade Adeoba, Sixtus Okoro, Yaroslava'\n",
    "\n",
    "name = names.split(', ')\n",
    "\n",
    "\n",
    "for i in name:\n",
    "    print(i)"
   ]
  },
  {
   "cell_type": "code",
   "execution_count": 7,
   "metadata": {},
   "outputs": [
    {
     "name": "stdout",
     "output_type": "stream",
     "text": [
      "[[[1 2]\n",
      "  [3 4]]\n",
      "\n",
      " [[5 6]\n",
      "  [7 8]]]\n"
     ]
    }
   ],
   "source": [
    "import numpy as np\n",
    "ls3 = [[[1,2],[3,4]],[[5,6], [7,8]]]\n",
    "\n",
    "arr3 = np.array(ls3)\n",
    "print(arr3)"
   ]
  },
  {
   "cell_type": "code",
   "execution_count": 9,
   "metadata": {},
   "outputs": [
    {
     "data": {
      "text/plain": [
       "8"
      ]
     },
     "execution_count": 9,
     "metadata": {},
     "output_type": "execute_result"
    }
   ],
   "source": [
    "arr3.size"
   ]
  },
  {
   "cell_type": "code",
   "execution_count": 10,
   "metadata": {},
   "outputs": [
    {
     "data": {
      "text/plain": [
       "(2, 2, 2)"
      ]
     },
     "execution_count": 10,
     "metadata": {},
     "output_type": "execute_result"
    }
   ],
   "source": [
    "arr3.shape"
   ]
  }
 ],
 "metadata": {
  "kernelspec": {
   "display_name": "Python 3",
   "language": "python",
   "name": "python3"
  },
  "language_info": {
   "codemirror_mode": {
    "name": "ipython",
    "version": 3
   },
   "file_extension": ".py",
   "mimetype": "text/x-python",
   "name": "python",
   "nbconvert_exporter": "python",
   "pygments_lexer": "ipython3",
   "version": "3.12.7"
  }
 },
 "nbformat": 4,
 "nbformat_minor": 2
}
