{
 "cells": [
  {
   "cell_type": "code",
   "execution_count": 4,
   "metadata": {},
   "outputs": [
    {
     "name": "stdout",
     "output_type": "stream",
     "text": [
      "!dlroW ,olleH\n"
     ]
    }
   ],
   "source": [
    "txt = input('Enter any sentence or word')\n",
    "\n",
    "print(txt[::-1])"
   ]
  },
  {
   "cell_type": "code",
   "execution_count": 27,
   "metadata": {},
   "outputs": [
    {
     "name": "stdout",
     "output_type": "stream",
     "text": [
      "[8, 10, 11]\n"
     ]
    }
   ],
   "source": [
    "def missing_number(l: list):\n",
    "    l.sort()\n",
    "    missing = [i for i in range(l[-1]) if i not in l]\n",
    "    print(missing)\n",
    "    \n",
    "missing_number([9,6,4,2,3,12,5,7,0,1])\n",
    "\n"
   ]
  },
  {
   "cell_type": "code",
   "execution_count": 47,
   "metadata": {},
   "outputs": [
    {
     "name": "stdout",
     "output_type": "stream",
     "text": [
      "3\n",
      "2\n"
     ]
    }
   ],
   "source": [
    "def count_vowels_in_sentence(sentence: str):\n",
    "    vowels = 'auioeAUIOE'\n",
    "    counter = sum(1 for i in sentence if i in vowels)\n",
    "    print(counter)\n",
    "    \n",
    "count_vowels_in_sentence('hellowe')\n",
    "count_vowels_in_sentence('hello')"
   ]
  },
  {
   "cell_type": "code",
   "execution_count": 52,
   "metadata": {},
   "outputs": [
    {
     "name": "stdout",
     "output_type": "stream",
     "text": [
      "[2, 3]\n"
     ]
    }
   ],
   "source": [
    "limit = int(input('Enter the limit: '))\n",
    "prime_numbers = []\n",
    "\n",
    "if limit > 0:\n",
    "    for i in range(2, limit+1):\n",
    "        for j in range (2, int((i**0.5)+1)):\n",
    "            if i % j == 0:\n",
    "                break\n",
    "        else:\n",
    "            prime_numbers.append(i)\n",
    "    print(prime_numbers)\n",
    "else:\n",
    "    print('Set limit for a higher positive number')"
   ]
  }
 ],
 "metadata": {
  "kernelspec": {
   "display_name": "Python 3",
   "language": "python",
   "name": "python3"
  },
  "language_info": {
   "codemirror_mode": {
    "name": "ipython",
    "version": 3
   },
   "file_extension": ".py",
   "mimetype": "text/x-python",
   "name": "python",
   "nbconvert_exporter": "python",
   "pygments_lexer": "ipython3",
   "version": "3.12.7"
  }
 },
 "nbformat": 4,
 "nbformat_minor": 2
}
