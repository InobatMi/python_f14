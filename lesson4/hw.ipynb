{
 "cells": [
  {
   "cell_type": "code",
   "execution_count": 2,
   "metadata": {},
   "outputs": [
    {
     "name": "stdout",
     "output_type": "stream",
     "text": [
      "{'name': None, 'age': None, 'city': None}\n"
     ]
    }
   ],
   "source": [
    "# dict.fromkeys(keys, value)\n",
    "\n",
    "keys = ['name', 'age', 'city']\n",
    "new_dict = dict.fromkeys(keys)\n",
    "\n",
    "print(new_dict)"
   ]
  },
  {
   "cell_type": "code",
   "execution_count": 6,
   "metadata": {},
   "outputs": [
    {
     "name": "stdout",
     "output_type": "stream",
     "text": [
      "{'Python': 'P.L.', 'Java': 'P.L.', 'C++': 'P.L.'}\n"
     ]
    }
   ],
   "source": [
    "keys = ('Python', 'Java', 'C++')\n",
    "default_value = 'P.L.'\n",
    "\n",
    "languages = dict.fromkeys(keys, default_value)\n",
    "\n",
    "print(languages)"
   ]
  },
  {
   "cell_type": "code",
   "execution_count": 10,
   "metadata": {},
   "outputs": [
    {
     "name": "stdout",
     "output_type": "stream",
     "text": [
      "{'name': 'Alice', 'age': 25}\n",
      "25\n"
     ]
    }
   ],
   "source": [
    "# dictionary.setdefault(key, default_value)\n",
    "\n",
    "person = {\"name\": \"Alice\", \"age\": 25}\n",
    "\n",
    "age = person.setdefault(\"age\", 30) \n",
    "print(person)  \n",
    "print(age) "
   ]
  },
  {
   "cell_type": "code",
   "execution_count": 12,
   "metadata": {},
   "outputs": [
    {
     "name": "stdout",
     "output_type": "stream",
     "text": [
      "{'name': 'Alice', 'age': 25, 'city': 'New York'}\n",
      "New York\n"
     ]
    }
   ],
   "source": [
    "city = person.setdefault(\"city\", \"New York\")  \n",
    "print(person) \n",
    "print(city)  "
   ]
  },
  {
   "cell_type": "code",
   "execution_count": 13,
   "metadata": {},
   "outputs": [
    {
     "name": "stdout",
     "output_type": "stream",
     "text": [
      "{'A': 1, 'B': 2, 'C': None}\n"
     ]
    }
   ],
   "source": [
    "data = {\"A\": 1, \"B\": 2}\n",
    "\n",
    "value = data.setdefault(\"C\") \n",
    "print(data)"
   ]
  }
 ],
 "metadata": {
  "kernelspec": {
   "display_name": "Python 3",
   "language": "python",
   "name": "python3"
  },
  "language_info": {
   "codemirror_mode": {
    "name": "ipython",
    "version": 3
   },
   "file_extension": ".py",
   "mimetype": "text/x-python",
   "name": "python",
   "nbconvert_exporter": "python",
   "pygments_lexer": "ipython3",
   "version": "3.12.7"
  }
 },
 "nbformat": 4,
 "nbformat_minor": 2
}
