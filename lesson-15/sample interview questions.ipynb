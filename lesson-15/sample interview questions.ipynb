{
 "cells": [
  {
   "cell_type": "code",
   "execution_count": null,
   "metadata": {},
   "outputs": [
    {
     "name": "stdout",
     "output_type": "stream",
     "text": [
      "7, 16, "
     ]
    }
   ],
   "source": [
    "#1\n",
    "#Print elements from odd positions from the list\n",
    "sample_list = [5,7,23,16,8]\n",
    "#Expected output: 7, 16\n",
    "\n",
    "for ind, val in enumerate(sample_list):\n",
    "    if ind % 2 == 1:\n",
    "        print(val, end=', ')\n"
   ]
  },
  {
   "cell_type": "code",
   "execution_count": null,
   "metadata": {},
   "outputs": [
    {
     "name": "stdout",
     "output_type": "stream",
     "text": [
      "3\n"
     ]
    }
   ],
   "source": [
    "#2\n",
    "#Find the most frequent value in a list in 2 ways\n",
    "import pandas as pd\n",
    "a = [3, 1, 2, 2, 3, 3, 4, 5, 6, 3]\n",
    "#Expected Output: 3\n",
    "\n",
    "# 1\n",
    "print(max(a, key=a.count))\n",
    "\n",
    "# 2\n",
    "b = pd.Series(a)\n",
    "print(b.mode()[0])\n"
   ]
  },
  {
   "cell_type": "code",
   "execution_count": null,
   "metadata": {},
   "outputs": [
    {
     "data": {
      "text/plain": [
       "False"
      ]
     },
     "execution_count": 26,
     "metadata": {},
     "output_type": "execute_result"
    }
   ],
   "source": [
    "#3\n",
    "#Write a function that checks if a string consists of only unique characters(case insensitive)\n",
    "\n",
    "#Sample input: Hello\n",
    "#Expected output: False\n",
    "\n",
    "\n",
    "def uniq_char(a:str):\n",
    "    a = a.lower()\n",
    "    return(len(set(a)) == len(a))\n",
    "\n",
    "uniq_char('Hello')\n"
   ]
  },
  {
   "cell_type": "code",
   "execution_count": null,
   "metadata": {},
   "outputs": [
    {
     "name": "stdout",
     "output_type": "stream",
     "text": [
      "Welcome to Pole Chudes\n",
      "Your word: _ _ _ _ _\n",
      "Attempts left: 3\n"
     ]
    },
    {
     "ename": "KeyboardInterrupt",
     "evalue": "Interrupted by user",
     "output_type": "error",
     "traceback": [
      "\u001b[1;31m---------------------------------------------------------------------------\u001b[0m",
      "\u001b[1;31mKeyboardInterrupt\u001b[0m                         Traceback (most recent call last)",
      "Cell \u001b[1;32mIn[2], line 41\u001b[0m\n\u001b[0;32m     38\u001b[0m     \u001b[38;5;28;01melse\u001b[39;00m:\n\u001b[0;32m     39\u001b[0m         \u001b[38;5;28mprint\u001b[39m(\u001b[38;5;124mf\u001b[39m\u001b[38;5;124m'\u001b[39m\u001b[38;5;124mGame over! The word was \u001b[39m\u001b[38;5;132;01m{\u001b[39;00mword\u001b[38;5;132;01m}\u001b[39;00m\u001b[38;5;124m. Try harder next time\u001b[39m\u001b[38;5;124m'\u001b[39m)\n\u001b[1;32m---> 41\u001b[0m \u001b[43mpole_chudes\u001b[49m\u001b[43m(\u001b[49m\u001b[43m)\u001b[49m\n",
      "Cell \u001b[1;32mIn[2], line 18\u001b[0m, in \u001b[0;36mpole_chudes\u001b[1;34m()\u001b[0m\n\u001b[0;32m     16\u001b[0m \u001b[38;5;28;01mwhile\u001b[39;00m attempts \u001b[38;5;241m>\u001b[39m \u001b[38;5;241m0\u001b[39m \u001b[38;5;129;01mor\u001b[39;00m \u001b[38;5;124m'\u001b[39m\u001b[38;5;124m_\u001b[39m\u001b[38;5;124m'\u001b[39m \u001b[38;5;129;01min\u001b[39;00m hidden_word:\n\u001b[0;32m     17\u001b[0m     \u001b[38;5;28mprint\u001b[39m(\u001b[38;5;124mf\u001b[39m\u001b[38;5;124m'\u001b[39m\u001b[38;5;124mAttempts left: \u001b[39m\u001b[38;5;132;01m{\u001b[39;00mattempts\u001b[38;5;132;01m}\u001b[39;00m\u001b[38;5;124m'\u001b[39m)\n\u001b[1;32m---> 18\u001b[0m     guess \u001b[38;5;241m=\u001b[39m \u001b[38;5;28;43minput\u001b[39;49m\u001b[43m(\u001b[49m\u001b[38;5;124;43m'\u001b[39;49m\u001b[38;5;124;43mGuess a letter:\u001b[39;49m\u001b[38;5;124;43m'\u001b[39;49m\u001b[43m)\u001b[49m\u001b[38;5;241m.\u001b[39mlower()\n\u001b[0;32m     19\u001b[0m     \u001b[38;5;28;01mif\u001b[39;00m \u001b[38;5;28mlen\u001b[39m(guess) \u001b[38;5;241m!=\u001b[39m \u001b[38;5;241m1\u001b[39m \u001b[38;5;129;01mor\u001b[39;00m \u001b[38;5;129;01mnot\u001b[39;00m guess\u001b[38;5;241m.\u001b[39misalpha():\n\u001b[0;32m     20\u001b[0m         \u001b[38;5;28mprint\u001b[39m(\u001b[38;5;124m'\u001b[39m\u001b[38;5;124mPlease enter a single valid letter!\u001b[39m\u001b[38;5;124m'\u001b[39m)\n",
      "File \u001b[1;32m~\\AppData\\Roaming\\Python\\Python312\\site-packages\\ipykernel\\kernelbase.py:1282\u001b[0m, in \u001b[0;36mKernel.raw_input\u001b[1;34m(self, prompt)\u001b[0m\n\u001b[0;32m   1280\u001b[0m     msg \u001b[38;5;241m=\u001b[39m \u001b[38;5;124m\"\u001b[39m\u001b[38;5;124mraw_input was called, but this frontend does not support input requests.\u001b[39m\u001b[38;5;124m\"\u001b[39m\n\u001b[0;32m   1281\u001b[0m     \u001b[38;5;28;01mraise\u001b[39;00m StdinNotImplementedError(msg)\n\u001b[1;32m-> 1282\u001b[0m \u001b[38;5;28;01mreturn\u001b[39;00m \u001b[38;5;28;43mself\u001b[39;49m\u001b[38;5;241;43m.\u001b[39;49m\u001b[43m_input_request\u001b[49m\u001b[43m(\u001b[49m\n\u001b[0;32m   1283\u001b[0m \u001b[43m    \u001b[49m\u001b[38;5;28;43mstr\u001b[39;49m\u001b[43m(\u001b[49m\u001b[43mprompt\u001b[49m\u001b[43m)\u001b[49m\u001b[43m,\u001b[49m\n\u001b[0;32m   1284\u001b[0m \u001b[43m    \u001b[49m\u001b[38;5;28;43mself\u001b[39;49m\u001b[38;5;241;43m.\u001b[39;49m\u001b[43m_parent_ident\u001b[49m\u001b[43m[\u001b[49m\u001b[38;5;124;43m\"\u001b[39;49m\u001b[38;5;124;43mshell\u001b[39;49m\u001b[38;5;124;43m\"\u001b[39;49m\u001b[43m]\u001b[49m\u001b[43m,\u001b[49m\n\u001b[0;32m   1285\u001b[0m \u001b[43m    \u001b[49m\u001b[38;5;28;43mself\u001b[39;49m\u001b[38;5;241;43m.\u001b[39;49m\u001b[43mget_parent\u001b[49m\u001b[43m(\u001b[49m\u001b[38;5;124;43m\"\u001b[39;49m\u001b[38;5;124;43mshell\u001b[39;49m\u001b[38;5;124;43m\"\u001b[39;49m\u001b[43m)\u001b[49m\u001b[43m,\u001b[49m\n\u001b[0;32m   1286\u001b[0m \u001b[43m    \u001b[49m\u001b[43mpassword\u001b[49m\u001b[38;5;241;43m=\u001b[39;49m\u001b[38;5;28;43;01mFalse\u001b[39;49;00m\u001b[43m,\u001b[49m\n\u001b[0;32m   1287\u001b[0m \u001b[43m\u001b[49m\u001b[43m)\u001b[49m\n",
      "File \u001b[1;32m~\\AppData\\Roaming\\Python\\Python312\\site-packages\\ipykernel\\kernelbase.py:1325\u001b[0m, in \u001b[0;36mKernel._input_request\u001b[1;34m(self, prompt, ident, parent, password)\u001b[0m\n\u001b[0;32m   1322\u001b[0m \u001b[38;5;28;01mexcept\u001b[39;00m \u001b[38;5;167;01mKeyboardInterrupt\u001b[39;00m:\n\u001b[0;32m   1323\u001b[0m     \u001b[38;5;66;03m# re-raise KeyboardInterrupt, to truncate traceback\u001b[39;00m\n\u001b[0;32m   1324\u001b[0m     msg \u001b[38;5;241m=\u001b[39m \u001b[38;5;124m\"\u001b[39m\u001b[38;5;124mInterrupted by user\u001b[39m\u001b[38;5;124m\"\u001b[39m\n\u001b[1;32m-> 1325\u001b[0m     \u001b[38;5;28;01mraise\u001b[39;00m \u001b[38;5;167;01mKeyboardInterrupt\u001b[39;00m(msg) \u001b[38;5;28;01mfrom\u001b[39;00m\u001b[38;5;250m \u001b[39m\u001b[38;5;28;01mNone\u001b[39;00m\n\u001b[0;32m   1326\u001b[0m \u001b[38;5;28;01mexcept\u001b[39;00m \u001b[38;5;167;01mException\u001b[39;00m:\n\u001b[0;32m   1327\u001b[0m     \u001b[38;5;28mself\u001b[39m\u001b[38;5;241m.\u001b[39mlog\u001b[38;5;241m.\u001b[39mwarning(\u001b[38;5;124m\"\u001b[39m\u001b[38;5;124mInvalid Message:\u001b[39m\u001b[38;5;124m\"\u001b[39m, exc_info\u001b[38;5;241m=\u001b[39m\u001b[38;5;28;01mTrue\u001b[39;00m)\n",
      "\u001b[1;31mKeyboardInterrupt\u001b[0m: Interrupted by user"
     ]
    }
   ],
   "source": [
    "import random\n",
    "\n",
    "def pole_chudes():\n",
    "    print('Welcome to Pole Chudes')\n",
    "    \n",
    "    \n",
    "    words = ['hello', 'pen', 'phone', 'glass', 'beach']\n",
    "    word = random.choice(words).lower()\n",
    "    hidden_word = \"_\" * len(word)\n",
    "    attempts = 3\n",
    "    \n",
    "    guessed_letters = set()\n",
    "    \n",
    "    print(f'Your word: {' '.join(hidden_word)}')\n",
    "    \n",
    "    while attempts > 0 or '_' in hidden_word:\n",
    "        print(f'Attempts left: {attempts}')\n",
    "        guess = input('Guess a letter:').lower()\n",
    "        if len(guess) != 1 or not guess.isalpha():\n",
    "            print('Please enter a single valid letter!')\n",
    "            continue\n",
    "        if guess in guessed_letters:\n",
    "            print('You already guessed that letter')\n",
    "            continue\n",
    "        guessed_letters.add(guess)\n",
    "        if guess in word:\n",
    "            print(f'Good job! You found the letter {guess}')\n",
    "            for i, letter in enumerate(word):\n",
    "                if guess == letter:\n",
    "                    hidden_word[i] == guess\n",
    "                    print(' '.join(hidden_word))\n",
    "                else:\n",
    "                    print(f'Sorry, your letter {guess} is not in the word')\n",
    "                    attempts -= 1\n",
    "                    \n",
    "    if '_' not in hidden_word:\n",
    "        print(f'Congratulations! You guessed the word: {word}')\n",
    "    else:\n",
    "        print(f'Game over! The word was {word}. Try harder next time')\n",
    "        \n",
    "pole_chudes()\n",
    "        "
   ]
  },
  {
   "cell_type": "code",
   "execution_count": null,
   "metadata": {},
   "outputs": [
    {
     "name": "stderr",
     "output_type": "stream",
     "text": [
      "<>:28: SyntaxWarning: invalid escape sequence '\\s'\n",
      "<>:28: SyntaxWarning: invalid escape sequence '\\s'\n",
      "C:\\Users\\Inobat\\AppData\\Local\\Temp\\ipykernel_16196\\2674359288.py:28: SyntaxWarning: invalid escape sequence '\\s'\n",
      "  print(f'{i}\\s bid is ${dict[i]}')\n"
     ]
    },
    {
     "name": "stdout",
     "output_type": "stream",
     "text": [
      "All bids: \n",
      "Samandar\\s bid is $600.0\n",
      "Winner is Samandar with bid $600.0\n"
     ]
    }
   ],
   "source": [
    "person = input('Enter your name:')\n",
    "bid = float(input('Enter your bid: '))\n",
    "is_next = input('Enter if there is smn else with you (Yes or No):').capitalize()\n",
    "\n",
    "dict = {person: bid}\n",
    "\n",
    "def new_bid(name, bid):\n",
    "    dict[name] = bid\n",
    "    \n",
    "if is_next == 'Yes':\n",
    "    person = input('Enter your name:')\n",
    "    bid = float(input('Enter your bid: '))\n",
    "    is_next = input('Enter if there is smn else with you (Yes or No):').capitalize()\n",
    "    dict = {person: bid}\n",
    "    def new_bid(name, bid):\n",
    "        dict[name] = bid\n",
    "        \n",
    "max_bid = 0 \n",
    "\n",
    "for i in dict:\n",
    "    if dict[i] > max_bid:\n",
    "        max_bid = dict[i]\n",
    "        winner = i\n",
    "    \n",
    "print('All bids: ')\n",
    "\n",
    "for i in dict:\n",
    "    print(f'{i}\\'s bid is ${dict[i]}')\n",
    "\n",
    "print(f'Winner is {winner} with bid ${max_bid}')"
   ]
  }
 ],
 "metadata": {
  "kernelspec": {
   "display_name": "Python 3",
   "language": "python",
   "name": "python3"
  },
  "language_info": {
   "codemirror_mode": {
    "name": "ipython",
    "version": 3
   },
   "file_extension": ".py",
   "mimetype": "text/x-python",
   "name": "python",
   "nbconvert_exporter": "python",
   "pygments_lexer": "ipython3",
   "version": "3.12.7"
  },
  "orig_nbformat": 4
 },
 "nbformat": 4,
 "nbformat_minor": 2
}
