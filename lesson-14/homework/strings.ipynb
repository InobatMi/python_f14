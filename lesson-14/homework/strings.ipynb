{
 "cells": [
  {
   "cell_type": "code",
   "execution_count": 14,
   "metadata": {},
   "outputs": [
    {
     "name": "stdout",
     "output_type": "stream",
     "text": [
      "Student Details:\n",
      "--------------------\n",
      "ID: 1\n",
      "Name: Alice Johnson\n",
      "Age: 20\n",
      "Major: Computer Science\n",
      "GPA: 3.8\n",
      "\n",
      "ID: 2\n",
      "Name: Bob Smith\n",
      "Age: 22\n",
      "Major: Mechanical Engineering\n",
      "GPA: 3.5\n",
      "\n",
      "ID: 3\n",
      "Name: Charlie Brown\n",
      "Age: 21\n",
      "Major: Electrical Engineering\n",
      "GPA: 3.7\n",
      "\n"
     ]
    }
   ],
   "source": [
    "# 1. Task: JSON Parsing\n",
    "#     - write a Python script that reads the students.jon JSON file and prints details of each student.\n",
    "\n",
    "import json\n",
    "\n",
    "def read_students(filename='students.json'):\n",
    "    try:\n",
    "        with open(filename) as f:\n",
    "            data = json.load(f)\n",
    "            if not isinstance(data, list):\n",
    "                print(\"Invalid data format in JSON.\")\n",
    "                return\n",
    "            print(\"Student Details:\\n\" + \"-\" * 20)\n",
    "            for student in data:\n",
    "                print('\\n'.join([\n",
    "                    f\"ID: {student.get('id', 'N/A')}\",\n",
    "                    f\"Name: {student.get('name', 'N/A')}\",\n",
    "                    f\"Age: {student.get('age', 'N/A')}\",\n",
    "                    f\"Major: {student.get('major', 'N/A')}\",\n",
    "                    f\"GPA: {student.get('gpa', 'N/A')}\",\n",
    "                    ''\n",
    "                ]))\n",
    "    except FileNotFoundError:\n",
    "        print(\"Error: The file 'students.json' was not found.\")\n",
    "    except json.JSONDecodeError:\n",
    "        print(\"Error: The file contains invalid JSON.\")\n",
    "    except Exception as e:\n",
    "        print(f\"An unexpected error occurred: {e}\")\n",
    "\n",
    "read_students()"
   ]
  },
  {
   "cell_type": "code",
   "execution_count": 15,
   "metadata": {},
   "outputs": [
    {
     "name": "stdout",
     "output_type": "stream",
     "text": [
      "Weather in Tashkent\n",
      "Temperature: 7.97°C\n",
      "Humidity: 93%\n",
      "Condition: Broken Clouds\n"
     ]
    }
   ],
   "source": [
    "# 2. Task: Weather API\n",
    "#    1. Use this url : https://openweathermap.org/\n",
    "#    2. Use the requests library to fetch weather data for a \n",
    "# specific city(ex. your hometown: Tashkent) and print relevant information (temperature, humidity, etc.).\n",
    "\n",
    "import requests\n",
    "\n",
    "def fetch_weather(city='Tashkent'):\n",
    "    API_KEY = '26794b113ae569eec07479d62f6e2fe1'\n",
    "    try:\n",
    "        res = requests.get(\n",
    "            'https://api.openweathermap.org/data/2.5/weather',\n",
    "            params={'q': city, 'appid': API_KEY, 'units': 'metric'}\n",
    "        )\n",
    "        res.raise_for_status()\n",
    "        data = res.json()\n",
    "        if data.get(\"cod\") != 200:\n",
    "            print(f\"Error: {data.get('message', 'Unknown error')}\")\n",
    "            return\n",
    "        print(f\"Weather in {data['name']}\")\n",
    "        print(f\"Temperature: {data['main']['temp']}°C\")\n",
    "        print(f\"Humidity: {data['main']['humidity']}%\")\n",
    "        print(f\"Condition: {data['weather'][0]['description'].title()}\")\n",
    "    except requests.RequestException as e:\n",
    "        print(f\"Error fetching weather: {e}\")\n",
    "\n",
    "fetch_weather()"
   ]
  },
  {
   "cell_type": "code",
   "execution_count": 16,
   "metadata": {},
   "outputs": [
    {
     "name": "stdout",
     "output_type": "stream",
     "text": [
      "Book 'Auto' added.\n",
      "Book 'Auto' updated.\n",
      "No book found with title 'Unknown Title'.\n"
     ]
    }
   ],
   "source": [
    "# 3. Task: JSON Modification\n",
    "#    1. Write a program that allows users to add new books, \n",
    "# update existing book information, and delete books from the books.json JSON file.\n",
    "import json, os\n",
    "\n",
    "file = 'books.json'\n",
    "\n",
    "def load():\n",
    "    try:\n",
    "        with open(file, 'r') as f:\n",
    "            return json.load(f)\n",
    "    except (FileNotFoundError, json.JSONDecodeError):\n",
    "        return []\n",
    "\n",
    "def save(data):\n",
    "    with open(file, 'w') as f:\n",
    "        json.dump(data, f, indent=2)\n",
    "\n",
    "def add_book(book):\n",
    "    data = load()\n",
    "    data.append(book)\n",
    "    save(data)\n",
    "    print(f\"Book '{book['title']}' added.\")\n",
    "\n",
    "def update_book(title, new_info):\n",
    "    data = load()\n",
    "    updated = False\n",
    "    for book in data:\n",
    "        if book['title'] == title:\n",
    "            book.update(new_info)\n",
    "            updated = True\n",
    "            break\n",
    "    save(data)\n",
    "    print(f\"Book '{title}' updated.\" if updated else f\"No book found with title '{title}'.\")\n",
    "\n",
    "def delete_book(title):\n",
    "    data = load()\n",
    "    new_data = [b for b in data if b['title'] != title]\n",
    "    if len(new_data) != len(data):\n",
    "        save(new_data)\n",
    "        print(f\"Book '{title}' deleted.\")\n",
    "    else:\n",
    "        print(f\"No book found with title '{title}'.\")\n",
    "\n",
    "# Example usage:\n",
    "add_book({'title': 'Auto', 'author': 'Inobat'})\n",
    "update_book('Auto', {'author': 'New Author'})\n",
    "delete_book('Unknown Title')"
   ]
  },
  {
   "cell_type": "code",
   "execution_count": null,
   "metadata": {},
   "outputs": [
    {
     "name": "stdout",
     "output_type": "stream",
     "text": [
      "No movies found for genre 'Mad Max' from sample list.\n"
     ]
    }
   ],
   "source": [
    "# 4. Task: Movie Recommendation System\n",
    "#    1. Use this url http://www.omdbapi.com/ to fetch information about movies.\n",
    "#    2. Create a program that asks users for a movie genre and recommends a random movie from that genre.\n",
    "\n",
    "import requests, random\n",
    "\n",
    "def recommend_movie(genre_input):\n",
    "    API_KEY = '87447f17'\n",
    "    movies = [\"Inception\", \"The Matrix\", \"Mad Max\", \"Titanic\", \"Interstellar\"]\n",
    "    random.shuffle(movies)  # Add some variety\n",
    "\n",
    "    for movie in movies:\n",
    "        try:\n",
    "            res = requests.get(f\"http://www.omdbapi.com/\", params={'t': movie, 'apikey': API_KEY})\n",
    "            data = res.json()\n",
    "            if data.get('Response') == 'True':\n",
    "                movie_genres = data.get('Genre', '')\n",
    "                if genre_input.lower() in movie_genres.lower():\n",
    "                    print(f\"Recommended: {data['Title']} ({data['Year']}) - {movie_genres}\")\n",
    "                    return\n",
    "        except requests.RequestException as e:\n",
    "            print(f\"Error fetching data for {movie}: {e}\")\n",
    "    print(f\"Sorry, no matching movies found for genre '{genre_input}' in the sample list.\")\n",
    "\n",
    "genre = input(\"Enter a genre: \")\n",
    "recommend_movie(genre)"
   ]
  }
 ],
 "metadata": {
  "kernelspec": {
   "display_name": "Python 3",
   "language": "python",
   "name": "python3"
  },
  "language_info": {
   "codemirror_mode": {
    "name": "ipython",
    "version": 3
   },
   "file_extension": ".py",
   "mimetype": "text/x-python",
   "name": "python",
   "nbconvert_exporter": "python",
   "pygments_lexer": "ipython3",
   "version": "3.12.7"
  }
 },
 "nbformat": 4,
 "nbformat_minor": 2
}
