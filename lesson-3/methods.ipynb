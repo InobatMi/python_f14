{
 "cells": [
  {
   "cell_type": "code",
   "execution_count": null,
   "metadata": {},
   "outputs": [
    {
     "data": {
      "text/plain": [
       "['Mario', 'Elon', 'Luigi']"
      ]
     },
     "execution_count": 3,
     "metadata": {},
     "output_type": "execute_result"
    }
   ],
   "source": [
    "people = ['Mario', 'Elon']\n",
    "\n",
    "people.append('Luigi')\n",
    "print(people)"
   ]
  },
  {
   "cell_type": "code",
   "execution_count": 5,
   "metadata": {},
   "outputs": [
    {
     "name": "stdout",
     "output_type": "stream",
     "text": [
      "[]\n"
     ]
    }
   ],
   "source": [
    "people.clear()\n",
    "\n",
    "print(people)"
   ]
  },
  {
   "cell_type": "code",
   "execution_count": 8,
   "metadata": {},
   "outputs": [
    {
     "name": "stdout",
     "output_type": "stream",
     "text": [
      "['Mario', 'Elon', 'Trump']\n",
      "['Elon', 'Trump']\n"
     ]
    }
   ],
   "source": [
    "people = ['Mario', 'Elon', 'Trump']\n",
    "\n",
    "copy_people = people.copy()\n",
    "\n",
    "copy_people.remove('Mario')\n",
    "\n",
    "print(people)\n",
    "print(copy_people)"
   ]
  },
  {
   "cell_type": "code",
   "execution_count": 10,
   "metadata": {},
   "outputs": [
    {
     "name": "stdout",
     "output_type": "stream",
     "text": [
      "['Mario', ['Elon', 'Cat'], 'Trump']\n",
      "['Mario', ['Elon', 'Cat']]\n"
     ]
    }
   ],
   "source": [
    "people = ['Mario', ['Elon', 'Bob'], 'Trump']\n",
    "\n",
    "copy_people = people.copy()\n",
    "\n",
    "copy_people.remove('Trump')\n",
    "copy_people[1][1] = 'Cat'\n",
    "\n",
    "print(people)\n",
    "print(copy_people)"
   ]
  },
  {
   "cell_type": "code",
   "execution_count": 28,
   "metadata": {},
   "outputs": [
    {
     "name": "stdout",
     "output_type": "stream",
     "text": [
      "2\n",
      "0\n",
      "1\n"
     ]
    }
   ],
   "source": [
    "people = ['Mario', 'Elon', 'Trump', 'Elon']\n",
    "\n",
    "elons = people.count('Elon')\n",
    "\n",
    "print(elons)\n",
    "\n",
    "elons = people.count('apple')\n",
    "print(elons)\n",
    "\n",
    "elons = people.count('Mario')\n",
    "print(elons)"
   ]
  },
  {
   "cell_type": "code",
   "execution_count": 29,
   "metadata": {},
   "outputs": [
    {
     "data": {
      "text/plain": [
       "1"
      ]
     },
     "execution_count": 29,
     "metadata": {},
     "output_type": "execute_result"
    }
   ],
   "source": [
    "people.index('Elon')"
   ]
  },
  {
   "cell_type": "code",
   "execution_count": 30,
   "metadata": {},
   "outputs": [
    {
     "ename": "ValueError",
     "evalue": "'Luigi' is not in list",
     "output_type": "error",
     "traceback": [
      "\u001b[1;31m---------------------------------------------------------------------------\u001b[0m",
      "\u001b[1;31mValueError\u001b[0m                                Traceback (most recent call last)",
      "Cell \u001b[1;32mIn[30], line 1\u001b[0m\n\u001b[1;32m----> 1\u001b[0m \u001b[43mpeople\u001b[49m\u001b[38;5;241;43m.\u001b[39;49m\u001b[43mindex\u001b[49m\u001b[43m(\u001b[49m\u001b[38;5;124;43m'\u001b[39;49m\u001b[38;5;124;43mLuigi\u001b[39;49m\u001b[38;5;124;43m'\u001b[39;49m\u001b[43m)\u001b[49m\n",
      "\u001b[1;31mValueError\u001b[0m: 'Luigi' is not in list"
     ]
    }
   ],
   "source": [
    "people.index('Luigi')"
   ]
  },
  {
   "cell_type": "code",
   "execution_count": 31,
   "metadata": {},
   "outputs": [
    {
     "name": "stdout",
     "output_type": "stream",
     "text": [
      "['Mario', 'Luigi', 'Elon', 'Trump', 'Elon']\n",
      "['Mario', 'Luigi', 'Elon', 'Trump', 'Elon', 'Luigi']\n",
      "['Luigi', 'Mario', 'Luigi', 'Elon', 'Trump', 'Elon', 'Luigi']\n"
     ]
    }
   ],
   "source": [
    "people.insert(1, 'Luigi')\n",
    "\n",
    "print(people)\n",
    "\n",
    "\n",
    "people.insert(1000, 'Luigi')\n",
    "\n",
    "print(people)\n",
    "\n",
    "\n",
    "people.insert(-1000, 'Luigi')\n",
    "\n",
    "print(people)"
   ]
  },
  {
   "cell_type": "code",
   "execution_count": 32,
   "metadata": {},
   "outputs": [
    {
     "name": "stdout",
     "output_type": "stream",
     "text": [
      "['Luigi', 'Mario', 'Luigi', 'Elon', 'Trump', 'Elon']\n",
      "['Mario', 'Luigi', 'Elon', 'Trump', 'Elon']\n",
      "Luigi\n"
     ]
    }
   ],
   "source": [
    "people.pop()\n",
    "\n",
    "print(people)\n",
    "\n",
    "\n",
    "popped = people.pop(0)\n",
    "\n",
    "print(people)\n",
    "print(popped)\n",
    "\n",
    "\n"
   ]
  },
  {
   "cell_type": "code",
   "execution_count": 35,
   "metadata": {},
   "outputs": [
    {
     "data": {
      "text/plain": [
       "['Mario', 'Trump', 'Elon']"
      ]
     },
     "execution_count": 35,
     "metadata": {},
     "output_type": "execute_result"
    }
   ],
   "source": [
    "people = ['Mario', 'Elon', 'Trump', 'Elon']\n",
    "people.remove('Elon')\n",
    "\n",
    "people"
   ]
  },
  {
   "cell_type": "code",
   "execution_count": 37,
   "metadata": {},
   "outputs": [
    {
     "ename": "ValueError",
     "evalue": "list.remove(x): x not in list",
     "output_type": "error",
     "traceback": [
      "\u001b[1;31m---------------------------------------------------------------------------\u001b[0m",
      "\u001b[1;31mValueError\u001b[0m                                Traceback (most recent call last)",
      "Cell \u001b[1;32mIn[37], line 1\u001b[0m\n\u001b[1;32m----> 1\u001b[0m \u001b[43mpeople\u001b[49m\u001b[38;5;241;43m.\u001b[39;49m\u001b[43mremove\u001b[49m\u001b[43m(\u001b[49m\u001b[38;5;124;43m'\u001b[39;49m\u001b[38;5;124;43mLuigi\u001b[39;49m\u001b[38;5;124;43m'\u001b[39;49m\u001b[43m)\u001b[49m\n",
      "\u001b[1;31mValueError\u001b[0m: list.remove(x): x not in list"
     ]
    }
   ],
   "source": [
    "people.remove('Luigi')"
   ]
  },
  {
   "cell_type": "code",
   "execution_count": 39,
   "metadata": {},
   "outputs": [
    {
     "name": "stdout",
     "output_type": "stream",
     "text": [
      "['Trump', 'Elon', 'Mario']\n"
     ]
    }
   ],
   "source": [
    "people = ['Mario', 'Elon', 'Trump']\n",
    "\n",
    "people.reverse()\n",
    "\n",
    "print(people)"
   ]
  },
  {
   "cell_type": "code",
   "execution_count": 50,
   "metadata": {},
   "outputs": [
    {
     "name": "stdout",
     "output_type": "stream",
     "text": [
      "['Elon', 'Luigi', 'Mario', 'bob', 'trump']\n",
      "['bob', 'Elon', 'Luigi', 'Mario', 'trump']\n",
      "['bob', 'Elon', 'Luigi', 'Mario', 'trump']\n",
      "['Luigi', 'Mario', 'trump', 'Elon', 'bob']\n",
      "['trump', 'bob', 'Mario', 'Luigi', 'Elon']\n"
     ]
    }
   ],
   "source": [
    "people = ['Mario', 'Elon', 'trump', 'bob', 'Luigi']\n",
    "\n",
    "people.sort()\n",
    "\n",
    "print(people)\n",
    "\n",
    "\n",
    "people.sort(key=lambda name: name.lower())\n",
    "\n",
    "print(people)\n",
    "\n",
    "\n",
    "people.sort(key=lambda name: len(name))\n",
    "\n",
    "print(people)\n",
    "\n",
    "\n",
    "people.sort(key=lambda name: len(name), reverse=True)\n",
    "\n",
    "print(people)\n",
    "\n",
    "\n",
    "people.sort(reverse=True)\n",
    "\n",
    "print(people)\n",
    "\n",
    "\n"
   ]
  }
 ],
 "metadata": {
  "kernelspec": {
   "display_name": "Python 3",
   "language": "python",
   "name": "python3"
  },
  "language_info": {
   "codemirror_mode": {
    "name": "ipython",
    "version": 3
   },
   "file_extension": ".py",
   "mimetype": "text/x-python",
   "name": "python",
   "nbconvert_exporter": "python",
   "pygments_lexer": "ipython3",
   "version": "3.12.7"
  }
 },
 "nbformat": 4,
 "nbformat_minor": 2
}
